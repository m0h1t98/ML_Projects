{
 "cells": [
  {
   "cell_type": "code",
   "execution_count": 1,
   "metadata": {},
   "outputs": [],
   "source": [
    "import numpy as np\n",
    "import pandas as pd\n",
    "import matplotlib.pyplot as plt\n",
    "import seaborn as sns"
   ]
  },
  {
   "cell_type": "code",
   "execution_count": 2,
   "metadata": {},
   "outputs": [
    {
     "data": {
      "text/html": [
       "<div>\n",
       "<style scoped>\n",
       "    .dataframe tbody tr th:only-of-type {\n",
       "        vertical-align: middle;\n",
       "    }\n",
       "\n",
       "    .dataframe tbody tr th {\n",
       "        vertical-align: top;\n",
       "    }\n",
       "\n",
       "    .dataframe thead th {\n",
       "        text-align: right;\n",
       "    }\n",
       "</style>\n",
       "<table border=\"1\" class=\"dataframe\">\n",
       "  <thead>\n",
       "    <tr style=\"text-align: right;\">\n",
       "      <th></th>\n",
       "      <th>time</th>\n",
       "      <th>gender</th>\n",
       "      <th>sexuallity</th>\n",
       "      <th>age</th>\n",
       "      <th>income</th>\n",
       "      <th>race</th>\n",
       "      <th>bodyweight</th>\n",
       "      <th>virgin</th>\n",
       "      <th>prostitution_legal</th>\n",
       "      <th>pay_for_sex</th>\n",
       "      <th>friends</th>\n",
       "      <th>social_fear</th>\n",
       "      <th>depressed</th>\n",
       "      <th>what_help_from_others</th>\n",
       "      <th>attempt_suicide</th>\n",
       "      <th>employment</th>\n",
       "      <th>job_title</th>\n",
       "      <th>edu_level</th>\n",
       "      <th>improve_yourself_how</th>\n",
       "    </tr>\n",
       "  </thead>\n",
       "  <tbody>\n",
       "    <tr>\n",
       "      <th>0</th>\n",
       "      <td>5/17/2016 20:04:18</td>\n",
       "      <td>Male</td>\n",
       "      <td>Straight</td>\n",
       "      <td>35</td>\n",
       "      <td>$30,000 to $39,999</td>\n",
       "      <td>White non-Hispanic</td>\n",
       "      <td>Normal weight</td>\n",
       "      <td>Yes</td>\n",
       "      <td>No</td>\n",
       "      <td>No</td>\n",
       "      <td>0.0</td>\n",
       "      <td>Yes</td>\n",
       "      <td>Yes</td>\n",
       "      <td>wingman/wingwoman, Set me up with a date</td>\n",
       "      <td>Yes</td>\n",
       "      <td>Employed for wages</td>\n",
       "      <td>mechanical drafter</td>\n",
       "      <td>Associate degree</td>\n",
       "      <td>None</td>\n",
       "    </tr>\n",
       "    <tr>\n",
       "      <th>1</th>\n",
       "      <td>5/17/2016 20:04:30</td>\n",
       "      <td>Male</td>\n",
       "      <td>Bisexual</td>\n",
       "      <td>21</td>\n",
       "      <td>$1 to $10,000</td>\n",
       "      <td>White non-Hispanic</td>\n",
       "      <td>Underweight</td>\n",
       "      <td>Yes</td>\n",
       "      <td>No</td>\n",
       "      <td>No</td>\n",
       "      <td>0.0</td>\n",
       "      <td>Yes</td>\n",
       "      <td>Yes</td>\n",
       "      <td>wingman/wingwoman, Set me up with a date, date...</td>\n",
       "      <td>No</td>\n",
       "      <td>Out of work and looking for work</td>\n",
       "      <td>-</td>\n",
       "      <td>Some college, no degree</td>\n",
       "      <td>join clubs/socual clubs/meet ups</td>\n",
       "    </tr>\n",
       "    <tr>\n",
       "      <th>2</th>\n",
       "      <td>5/17/2016 20:04:58</td>\n",
       "      <td>Male</td>\n",
       "      <td>Straight</td>\n",
       "      <td>22</td>\n",
       "      <td>$0</td>\n",
       "      <td>White non-Hispanic</td>\n",
       "      <td>Overweight</td>\n",
       "      <td>Yes</td>\n",
       "      <td>No</td>\n",
       "      <td>No</td>\n",
       "      <td>10.0</td>\n",
       "      <td>Yes</td>\n",
       "      <td>Yes</td>\n",
       "      <td>I don't want help</td>\n",
       "      <td>No</td>\n",
       "      <td>Out of work but not currently looking for work</td>\n",
       "      <td>unemployed</td>\n",
       "      <td>Some college, no degree</td>\n",
       "      <td>Other exercise</td>\n",
       "    </tr>\n",
       "    <tr>\n",
       "      <th>3</th>\n",
       "      <td>5/17/2016 20:08:01</td>\n",
       "      <td>Male</td>\n",
       "      <td>Straight</td>\n",
       "      <td>19</td>\n",
       "      <td>$1 to $10,000</td>\n",
       "      <td>White non-Hispanic</td>\n",
       "      <td>Overweight</td>\n",
       "      <td>Yes</td>\n",
       "      <td>Yes</td>\n",
       "      <td>No</td>\n",
       "      <td>8.0</td>\n",
       "      <td>Yes</td>\n",
       "      <td>Yes</td>\n",
       "      <td>date coaching</td>\n",
       "      <td>No</td>\n",
       "      <td>A student</td>\n",
       "      <td>student</td>\n",
       "      <td>Some college, no degree</td>\n",
       "      <td>Joined a gym/go to the gym</td>\n",
       "    </tr>\n",
       "    <tr>\n",
       "      <th>4</th>\n",
       "      <td>5/17/2016 20:08:04</td>\n",
       "      <td>Male</td>\n",
       "      <td>Straight</td>\n",
       "      <td>23</td>\n",
       "      <td>$30,000 to $39,999</td>\n",
       "      <td>White non-Hispanic</td>\n",
       "      <td>Overweight</td>\n",
       "      <td>No</td>\n",
       "      <td>No</td>\n",
       "      <td>Yes and I have</td>\n",
       "      <td>10.0</td>\n",
       "      <td>No</td>\n",
       "      <td>Yes</td>\n",
       "      <td>I don't want help</td>\n",
       "      <td>No</td>\n",
       "      <td>Employed for wages</td>\n",
       "      <td>Factory worker</td>\n",
       "      <td>High school graduate, diploma or the equivalen...</td>\n",
       "      <td>None</td>\n",
       "    </tr>\n",
       "    <tr>\n",
       "      <th>...</th>\n",
       "      <td>...</td>\n",
       "      <td>...</td>\n",
       "      <td>...</td>\n",
       "      <td>...</td>\n",
       "      <td>...</td>\n",
       "      <td>...</td>\n",
       "      <td>...</td>\n",
       "      <td>...</td>\n",
       "      <td>...</td>\n",
       "      <td>...</td>\n",
       "      <td>...</td>\n",
       "      <td>...</td>\n",
       "      <td>...</td>\n",
       "      <td>...</td>\n",
       "      <td>...</td>\n",
       "      <td>...</td>\n",
       "      <td>...</td>\n",
       "      <td>...</td>\n",
       "      <td>...</td>\n",
       "    </tr>\n",
       "    <tr>\n",
       "      <th>464</th>\n",
       "      <td>6/2/2016 5:04:24</td>\n",
       "      <td>Female</td>\n",
       "      <td>Straight</td>\n",
       "      <td>26</td>\n",
       "      <td>$10,000 to $19,999</td>\n",
       "      <td>White non-Hispanic</td>\n",
       "      <td>Overweight</td>\n",
       "      <td>Yes</td>\n",
       "      <td>No</td>\n",
       "      <td>Yes but I haven't</td>\n",
       "      <td>10.0</td>\n",
       "      <td>Yes</td>\n",
       "      <td>No</td>\n",
       "      <td>Set me up with a date, date coaching</td>\n",
       "      <td>No</td>\n",
       "      <td>Employed for wages</td>\n",
       "      <td>Consultant IT</td>\n",
       "      <td>Master’s degree</td>\n",
       "      <td>Joined a gym/go to the gym</td>\n",
       "    </tr>\n",
       "    <tr>\n",
       "      <th>465</th>\n",
       "      <td>6/3/2016 19:25:46</td>\n",
       "      <td>Male</td>\n",
       "      <td>Straight</td>\n",
       "      <td>31</td>\n",
       "      <td>$30,000 to $39,999</td>\n",
       "      <td>White non-Hispanic</td>\n",
       "      <td>Normal weight</td>\n",
       "      <td>No</td>\n",
       "      <td>No</td>\n",
       "      <td>Yes but I haven't</td>\n",
       "      <td>10.0</td>\n",
       "      <td>No</td>\n",
       "      <td>No</td>\n",
       "      <td>I don't want help</td>\n",
       "      <td>No</td>\n",
       "      <td>Employed for wages</td>\n",
       "      <td>castor</td>\n",
       "      <td>High school graduate, diploma or the equivalen...</td>\n",
       "      <td>Other exercise, join clubs/socual clubs/meet ups</td>\n",
       "    </tr>\n",
       "    <tr>\n",
       "      <th>466</th>\n",
       "      <td>6/6/2016 1:36:55</td>\n",
       "      <td>Female</td>\n",
       "      <td>Straight</td>\n",
       "      <td>17</td>\n",
       "      <td>$1 to $10,000</td>\n",
       "      <td>Asian</td>\n",
       "      <td>Normal weight</td>\n",
       "      <td>Yes</td>\n",
       "      <td>No</td>\n",
       "      <td>No</td>\n",
       "      <td>20.0</td>\n",
       "      <td>Yes</td>\n",
       "      <td>Yes</td>\n",
       "      <td>wingman/wingwoman</td>\n",
       "      <td>Yes</td>\n",
       "      <td>Employed for wages</td>\n",
       "      <td>receptionist</td>\n",
       "      <td>Some high school, no diploma</td>\n",
       "      <td>Joined a gym/go to the gym, Other exercise, jo...</td>\n",
       "    </tr>\n",
       "    <tr>\n",
       "      <th>467</th>\n",
       "      <td>8/14/2016 15:10:41</td>\n",
       "      <td>Male</td>\n",
       "      <td>Straight</td>\n",
       "      <td>18</td>\n",
       "      <td>$0</td>\n",
       "      <td>Asian</td>\n",
       "      <td>Obese</td>\n",
       "      <td>Yes</td>\n",
       "      <td>No</td>\n",
       "      <td>No</td>\n",
       "      <td>16.0</td>\n",
       "      <td>Yes</td>\n",
       "      <td>Yes</td>\n",
       "      <td>Set me up with a date</td>\n",
       "      <td>No</td>\n",
       "      <td>Out of work but not currently looking for work</td>\n",
       "      <td>Student</td>\n",
       "      <td>High school graduate, diploma or the equivalen...</td>\n",
       "      <td>Joined a gym/go to the gym, Therapy</td>\n",
       "    </tr>\n",
       "    <tr>\n",
       "      <th>468</th>\n",
       "      <td>9/4/2016 23:10:04</td>\n",
       "      <td>Male</td>\n",
       "      <td>Straight</td>\n",
       "      <td>28</td>\n",
       "      <td>$40,000 to $49,999</td>\n",
       "      <td>White non-Hispanic</td>\n",
       "      <td>Normal weight</td>\n",
       "      <td>Yes</td>\n",
       "      <td>No</td>\n",
       "      <td>Yes but I haven't</td>\n",
       "      <td>3.0</td>\n",
       "      <td>Yes</td>\n",
       "      <td>Yes</td>\n",
       "      <td>wingman/wingwoman, Set me up with a date, date...</td>\n",
       "      <td>No</td>\n",
       "      <td>Employed for wages</td>\n",
       "      <td>Scientist</td>\n",
       "      <td>Master’s degree</td>\n",
       "      <td>Therapy</td>\n",
       "    </tr>\n",
       "  </tbody>\n",
       "</table>\n",
       "<p>469 rows × 19 columns</p>\n",
       "</div>"
      ],
      "text/plain": [
       "                   time  gender sexuallity  age              income  \\\n",
       "0    5/17/2016 20:04:18    Male   Straight   35  $30,000 to $39,999   \n",
       "1    5/17/2016 20:04:30    Male   Bisexual   21       $1 to $10,000   \n",
       "2    5/17/2016 20:04:58    Male   Straight   22                  $0   \n",
       "3    5/17/2016 20:08:01    Male   Straight   19       $1 to $10,000   \n",
       "4    5/17/2016 20:08:04    Male   Straight   23  $30,000 to $39,999   \n",
       "..                  ...     ...        ...  ...                 ...   \n",
       "464    6/2/2016 5:04:24  Female   Straight   26  $10,000 to $19,999   \n",
       "465   6/3/2016 19:25:46    Male   Straight   31  $30,000 to $39,999   \n",
       "466    6/6/2016 1:36:55  Female   Straight   17       $1 to $10,000   \n",
       "467  8/14/2016 15:10:41    Male   Straight   18                  $0   \n",
       "468   9/4/2016 23:10:04    Male   Straight   28  $40,000 to $49,999   \n",
       "\n",
       "                   race     bodyweight virgin prostitution_legal  \\\n",
       "0    White non-Hispanic  Normal weight    Yes                 No   \n",
       "1    White non-Hispanic    Underweight    Yes                 No   \n",
       "2    White non-Hispanic     Overweight    Yes                 No   \n",
       "3    White non-Hispanic     Overweight    Yes                Yes   \n",
       "4    White non-Hispanic     Overweight     No                 No   \n",
       "..                  ...            ...    ...                ...   \n",
       "464  White non-Hispanic     Overweight    Yes                 No   \n",
       "465  White non-Hispanic  Normal weight     No                 No   \n",
       "466               Asian  Normal weight    Yes                 No   \n",
       "467               Asian          Obese    Yes                 No   \n",
       "468  White non-Hispanic  Normal weight    Yes                 No   \n",
       "\n",
       "           pay_for_sex  friends social_fear depressed  \\\n",
       "0                   No      0.0         Yes       Yes   \n",
       "1                   No      0.0         Yes       Yes   \n",
       "2                   No     10.0         Yes       Yes   \n",
       "3                   No      8.0         Yes       Yes   \n",
       "4       Yes and I have     10.0          No       Yes   \n",
       "..                 ...      ...         ...       ...   \n",
       "464  Yes but I haven't     10.0         Yes        No   \n",
       "465  Yes but I haven't     10.0          No        No   \n",
       "466                 No     20.0         Yes       Yes   \n",
       "467                 No     16.0         Yes       Yes   \n",
       "468  Yes but I haven't      3.0         Yes       Yes   \n",
       "\n",
       "                                 what_help_from_others attempt_suicide  \\\n",
       "0             wingman/wingwoman, Set me up with a date             Yes   \n",
       "1    wingman/wingwoman, Set me up with a date, date...              No   \n",
       "2                                    I don't want help              No   \n",
       "3                                        date coaching              No   \n",
       "4                                    I don't want help              No   \n",
       "..                                                 ...             ...   \n",
       "464               Set me up with a date, date coaching              No   \n",
       "465                                  I don't want help              No   \n",
       "466                                  wingman/wingwoman             Yes   \n",
       "467                              Set me up with a date              No   \n",
       "468  wingman/wingwoman, Set me up with a date, date...              No   \n",
       "\n",
       "                                         employment           job_title  \\\n",
       "0                                Employed for wages  mechanical drafter   \n",
       "1                  Out of work and looking for work                   -   \n",
       "2    Out of work but not currently looking for work          unemployed   \n",
       "3                                         A student             student   \n",
       "4                                Employed for wages      Factory worker   \n",
       "..                                              ...                 ...   \n",
       "464                              Employed for wages       Consultant IT   \n",
       "465                              Employed for wages              castor   \n",
       "466                              Employed for wages       receptionist    \n",
       "467  Out of work but not currently looking for work             Student   \n",
       "468                              Employed for wages           Scientist   \n",
       "\n",
       "                                             edu_level  \\\n",
       "0                                     Associate degree   \n",
       "1                              Some college, no degree   \n",
       "2                              Some college, no degree   \n",
       "3                              Some college, no degree   \n",
       "4    High school graduate, diploma or the equivalen...   \n",
       "..                                                 ...   \n",
       "464                                    Master’s degree   \n",
       "465  High school graduate, diploma or the equivalen...   \n",
       "466                       Some high school, no diploma   \n",
       "467  High school graduate, diploma or the equivalen...   \n",
       "468                                    Master’s degree   \n",
       "\n",
       "                                  improve_yourself_how  \n",
       "0                                                 None  \n",
       "1                     join clubs/socual clubs/meet ups  \n",
       "2                                       Other exercise  \n",
       "3                           Joined a gym/go to the gym  \n",
       "4                                                 None  \n",
       "..                                                 ...  \n",
       "464                         Joined a gym/go to the gym  \n",
       "465   Other exercise, join clubs/socual clubs/meet ups  \n",
       "466  Joined a gym/go to the gym, Other exercise, jo...  \n",
       "467                Joined a gym/go to the gym, Therapy  \n",
       "468                                            Therapy  \n",
       "\n",
       "[469 rows x 19 columns]"
      ]
     },
     "execution_count": 2,
     "metadata": {},
     "output_type": "execute_result"
    }
   ],
   "source": [
    "df = pd.read_csv('foreveralone.csv')\n",
    "df"
   ]
  },
  {
   "cell_type": "code",
   "execution_count": 3,
   "metadata": {},
   "outputs": [
    {
     "name": "stdout",
     "output_type": "stream",
     "text": [
      "<class 'pandas.core.frame.DataFrame'>\n",
      "RangeIndex: 469 entries, 0 to 468\n",
      "Data columns (total 19 columns):\n",
      " #   Column                 Non-Null Count  Dtype  \n",
      "---  ------                 --------------  -----  \n",
      " 0   time                   469 non-null    object \n",
      " 1   gender                 469 non-null    object \n",
      " 2   sexuallity             469 non-null    object \n",
      " 3   age                    469 non-null    int64  \n",
      " 4   income                 469 non-null    object \n",
      " 5   race                   469 non-null    object \n",
      " 6   bodyweight             469 non-null    object \n",
      " 7   virgin                 469 non-null    object \n",
      " 8   prostitution_legal     469 non-null    object \n",
      " 9   pay_for_sex            469 non-null    object \n",
      " 10  friends                469 non-null    float64\n",
      " 11  social_fear            469 non-null    object \n",
      " 12  depressed              469 non-null    object \n",
      " 13  what_help_from_others  469 non-null    object \n",
      " 14  attempt_suicide        469 non-null    object \n",
      " 15  employment             469 non-null    object \n",
      " 16  job_title              457 non-null    object \n",
      " 17  edu_level              469 non-null    object \n",
      " 18  improve_yourself_how   469 non-null    object \n",
      "dtypes: float64(1), int64(1), object(17)\n",
      "memory usage: 38.5+ KB\n"
     ]
    }
   ],
   "source": [
    "df.info()"
   ]
  },
  {
   "cell_type": "code",
   "execution_count": 4,
   "metadata": {},
   "outputs": [
    {
     "data": {
      "text/html": [
       "<div>\n",
       "<style scoped>\n",
       "    .dataframe tbody tr th:only-of-type {\n",
       "        vertical-align: middle;\n",
       "    }\n",
       "\n",
       "    .dataframe tbody tr th {\n",
       "        vertical-align: top;\n",
       "    }\n",
       "\n",
       "    .dataframe thead th {\n",
       "        text-align: right;\n",
       "    }\n",
       "</style>\n",
       "<table border=\"1\" class=\"dataframe\">\n",
       "  <thead>\n",
       "    <tr style=\"text-align: right;\">\n",
       "      <th></th>\n",
       "      <th>age</th>\n",
       "      <th>friends</th>\n",
       "    </tr>\n",
       "  </thead>\n",
       "  <tbody>\n",
       "    <tr>\n",
       "      <th>count</th>\n",
       "      <td>469.000000</td>\n",
       "      <td>469.000000</td>\n",
       "    </tr>\n",
       "    <tr>\n",
       "      <th>mean</th>\n",
       "      <td>23.963753</td>\n",
       "      <td>7.956716</td>\n",
       "    </tr>\n",
       "    <tr>\n",
       "      <th>std</th>\n",
       "      <td>6.023526</td>\n",
       "      <td>34.371500</td>\n",
       "    </tr>\n",
       "    <tr>\n",
       "      <th>min</th>\n",
       "      <td>12.000000</td>\n",
       "      <td>0.000000</td>\n",
       "    </tr>\n",
       "    <tr>\n",
       "      <th>25%</th>\n",
       "      <td>20.000000</td>\n",
       "      <td>1.000000</td>\n",
       "    </tr>\n",
       "    <tr>\n",
       "      <th>50%</th>\n",
       "      <td>23.000000</td>\n",
       "      <td>3.000000</td>\n",
       "    </tr>\n",
       "    <tr>\n",
       "      <th>75%</th>\n",
       "      <td>26.000000</td>\n",
       "      <td>7.000000</td>\n",
       "    </tr>\n",
       "    <tr>\n",
       "      <th>max</th>\n",
       "      <td>70.000000</td>\n",
       "      <td>600.000000</td>\n",
       "    </tr>\n",
       "  </tbody>\n",
       "</table>\n",
       "</div>"
      ],
      "text/plain": [
       "              age     friends\n",
       "count  469.000000  469.000000\n",
       "mean    23.963753    7.956716\n",
       "std      6.023526   34.371500\n",
       "min     12.000000    0.000000\n",
       "25%     20.000000    1.000000\n",
       "50%     23.000000    3.000000\n",
       "75%     26.000000    7.000000\n",
       "max     70.000000  600.000000"
      ]
     },
     "execution_count": 4,
     "metadata": {},
     "output_type": "execute_result"
    }
   ],
   "source": [
    "df.describe()"
   ]
  },
  {
   "cell_type": "code",
   "execution_count": 5,
   "metadata": {},
   "outputs": [
    {
     "data": {
      "text/plain": [
       "Index(['time', 'gender', 'sexuallity', 'age', 'income', 'race', 'bodyweight',\n",
       "       'virgin', 'prostitution_legal', 'pay_for_sex', 'friends', 'social_fear',\n",
       "       'depressed', 'what_help_from_others', 'attempt_suicide', 'employment',\n",
       "       'job_title', 'edu_level', 'improve_yourself_how'],\n",
       "      dtype='object')"
      ]
     },
     "execution_count": 5,
     "metadata": {},
     "output_type": "execute_result"
    }
   ],
   "source": [
    "df.columns"
   ]
  },
  {
   "cell_type": "markdown",
   "metadata": {},
   "source": [
    "## Feature Selection"
   ]
  },
  {
   "cell_type": "markdown",
   "metadata": {},
   "source": [
    "According to case study we can consider some important featuers \n",
    "\n",
    "['gender', 'sexuallity', 'friends', 'age', 'income', 'bodyweight', 'virgin', 'social_fear', 'depressed']\n",
    "\n",
    "\n",
    "target variable = 'attempt_suicide'"
   ]
  },
  {
   "cell_type": "code",
   "execution_count": 6,
   "metadata": {},
   "outputs": [],
   "source": [
    "cols = ['gender', 'sexuallity', 'friends', 'age', 'income', 'bodyweight', 'virgin', 'social_fear', 'depressed', 'attempt_suicide']"
   ]
  },
  {
   "cell_type": "code",
   "execution_count": 7,
   "metadata": {},
   "outputs": [
    {
     "name": "stdout",
     "output_type": "stream",
     "text": [
      "-----------------------------------\n",
      "gender :\n",
      "Male                  393\n",
      "Female                 73\n",
      "Transgender male        2\n",
      "Transgender female      1\n",
      "Name: gender, dtype: int64\n",
      "Number of Unique values: 4\n",
      "\n",
      "\n",
      "-----------------------------------\n",
      "sexuallity :\n",
      "Straight       415\n",
      "Bisexual        46\n",
      "Gay/Lesbian      8\n",
      "Name: sexuallity, dtype: int64\n",
      "Number of Unique values: 3\n",
      "\n",
      "\n",
      "-----------------------------------\n",
      "friends :\n",
      "0.0      109\n",
      "1.0       54\n",
      "5.0       45\n",
      "3.0       44\n",
      "2.0       42\n",
      "10.0      34\n",
      "4.0       27\n",
      "6.0       26\n",
      "20.0      16\n",
      "15.0      12\n",
      "7.0       10\n",
      "8.0       10\n",
      "12.0       8\n",
      "30.0       6\n",
      "16.0       3\n",
      "40.0       3\n",
      "13.0       3\n",
      "9.0        2\n",
      "100.0      2\n",
      "17.0       2\n",
      "25.0       2\n",
      "600.0      1\n",
      "400.0      1\n",
      "11.0       1\n",
      "28.0       1\n",
      "60.0       1\n",
      "80.0       1\n",
      "0.5        1\n",
      "18.0       1\n",
      "0.2        1\n",
      "Name: friends, dtype: int64\n",
      "Number of Unique values: 30\n",
      "\n",
      "\n",
      "-----------------------------------\n",
      "age :\n",
      "23    46\n",
      "21    41\n",
      "22    40\n",
      "18    39\n",
      "20    39\n",
      "24    37\n",
      "19    32\n",
      "25    30\n",
      "26    26\n",
      "28    21\n",
      "30    16\n",
      "27    15\n",
      "29    14\n",
      "17    13\n",
      "31    10\n",
      "35     6\n",
      "33     6\n",
      "16     5\n",
      "32     5\n",
      "38     4\n",
      "15     4\n",
      "34     3\n",
      "12     2\n",
      "36     2\n",
      "37     2\n",
      "39     2\n",
      "57     1\n",
      "41     1\n",
      "42     1\n",
      "44     1\n",
      "45     1\n",
      "48     1\n",
      "55     1\n",
      "14     1\n",
      "70     1\n",
      "Name: age, dtype: int64\n",
      "Number of Unique values: 35\n",
      "\n",
      "\n",
      "-----------------------------------\n",
      "income :\n",
      "$0                      160\n",
      "$1 to $10,000           100\n",
      "$10,000 to $19,999       58\n",
      "$20,000 to $29,999       44\n",
      "$30,000 to $39,999       39\n",
      "$50,000 to $74,999       28\n",
      "$40,000 to $49,999       16\n",
      "$75,000 to $99,999        9\n",
      "$125,000 to $149,999      6\n",
      "$100,000 to $124,999      3\n",
      "$200,000 or more          2\n",
      "$150,000 to $174,999      2\n",
      "$174,999 to $199,999      2\n",
      "Name: income, dtype: int64\n",
      "Number of Unique values: 13\n",
      "\n",
      "\n",
      "-----------------------------------\n",
      "bodyweight :\n",
      "Normal weight    269\n",
      "Overweight       113\n",
      "Underweight       62\n",
      "Obese             25\n",
      "Name: bodyweight, dtype: int64\n",
      "Number of Unique values: 4\n",
      "\n",
      "\n",
      "-----------------------------------\n",
      "virgin :\n",
      "Yes    352\n",
      "No     117\n",
      "Name: virgin, dtype: int64\n",
      "Number of Unique values: 2\n",
      "\n",
      "\n",
      "-----------------------------------\n",
      "social_fear :\n",
      "Yes    308\n",
      "No     161\n",
      "Name: social_fear, dtype: int64\n",
      "Number of Unique values: 2\n",
      "\n",
      "\n",
      "-----------------------------------\n",
      "depressed :\n",
      "Yes    312\n",
      "No     157\n",
      "Name: depressed, dtype: int64\n",
      "Number of Unique values: 2\n",
      "\n",
      "\n",
      "-----------------------------------\n",
      "attempt_suicide :\n",
      "No     384\n",
      "Yes     85\n",
      "Name: attempt_suicide, dtype: int64\n",
      "Number of Unique values: 2\n",
      "\n",
      "\n"
     ]
    }
   ],
   "source": [
    "for i in cols:\n",
    "    print('-----------------------------------')\n",
    "    print(i, ':')\n",
    "    print(df[i].value_counts())\n",
    "    #print('Unique Values :', df[i].unique())\n",
    "    print('Number of Unique values:', len(df[i].unique()))\n",
    "    print('\\n')"
   ]
  },
  {
   "cell_type": "code",
   "execution_count": 8,
   "metadata": {},
   "outputs": [],
   "source": [
    "df1 = df[cols]"
   ]
  },
  {
   "cell_type": "code",
   "execution_count": 9,
   "metadata": {},
   "outputs": [
    {
     "data": {
      "text/html": [
       "<div>\n",
       "<style scoped>\n",
       "    .dataframe tbody tr th:only-of-type {\n",
       "        vertical-align: middle;\n",
       "    }\n",
       "\n",
       "    .dataframe tbody tr th {\n",
       "        vertical-align: top;\n",
       "    }\n",
       "\n",
       "    .dataframe thead th {\n",
       "        text-align: right;\n",
       "    }\n",
       "</style>\n",
       "<table border=\"1\" class=\"dataframe\">\n",
       "  <thead>\n",
       "    <tr style=\"text-align: right;\">\n",
       "      <th></th>\n",
       "      <th>gender</th>\n",
       "      <th>sexuallity</th>\n",
       "      <th>friends</th>\n",
       "      <th>age</th>\n",
       "      <th>income</th>\n",
       "      <th>bodyweight</th>\n",
       "      <th>virgin</th>\n",
       "      <th>social_fear</th>\n",
       "      <th>depressed</th>\n",
       "      <th>attempt_suicide</th>\n",
       "    </tr>\n",
       "  </thead>\n",
       "  <tbody>\n",
       "    <tr>\n",
       "      <th>0</th>\n",
       "      <td>Male</td>\n",
       "      <td>Straight</td>\n",
       "      <td>0.0</td>\n",
       "      <td>35</td>\n",
       "      <td>$30,000 to $39,999</td>\n",
       "      <td>Normal weight</td>\n",
       "      <td>Yes</td>\n",
       "      <td>Yes</td>\n",
       "      <td>Yes</td>\n",
       "      <td>Yes</td>\n",
       "    </tr>\n",
       "    <tr>\n",
       "      <th>1</th>\n",
       "      <td>Male</td>\n",
       "      <td>Bisexual</td>\n",
       "      <td>0.0</td>\n",
       "      <td>21</td>\n",
       "      <td>$1 to $10,000</td>\n",
       "      <td>Underweight</td>\n",
       "      <td>Yes</td>\n",
       "      <td>Yes</td>\n",
       "      <td>Yes</td>\n",
       "      <td>No</td>\n",
       "    </tr>\n",
       "    <tr>\n",
       "      <th>2</th>\n",
       "      <td>Male</td>\n",
       "      <td>Straight</td>\n",
       "      <td>10.0</td>\n",
       "      <td>22</td>\n",
       "      <td>$0</td>\n",
       "      <td>Overweight</td>\n",
       "      <td>Yes</td>\n",
       "      <td>Yes</td>\n",
       "      <td>Yes</td>\n",
       "      <td>No</td>\n",
       "    </tr>\n",
       "    <tr>\n",
       "      <th>3</th>\n",
       "      <td>Male</td>\n",
       "      <td>Straight</td>\n",
       "      <td>8.0</td>\n",
       "      <td>19</td>\n",
       "      <td>$1 to $10,000</td>\n",
       "      <td>Overweight</td>\n",
       "      <td>Yes</td>\n",
       "      <td>Yes</td>\n",
       "      <td>Yes</td>\n",
       "      <td>No</td>\n",
       "    </tr>\n",
       "    <tr>\n",
       "      <th>4</th>\n",
       "      <td>Male</td>\n",
       "      <td>Straight</td>\n",
       "      <td>10.0</td>\n",
       "      <td>23</td>\n",
       "      <td>$30,000 to $39,999</td>\n",
       "      <td>Overweight</td>\n",
       "      <td>No</td>\n",
       "      <td>No</td>\n",
       "      <td>Yes</td>\n",
       "      <td>No</td>\n",
       "    </tr>\n",
       "    <tr>\n",
       "      <th>...</th>\n",
       "      <td>...</td>\n",
       "      <td>...</td>\n",
       "      <td>...</td>\n",
       "      <td>...</td>\n",
       "      <td>...</td>\n",
       "      <td>...</td>\n",
       "      <td>...</td>\n",
       "      <td>...</td>\n",
       "      <td>...</td>\n",
       "      <td>...</td>\n",
       "    </tr>\n",
       "    <tr>\n",
       "      <th>464</th>\n",
       "      <td>Female</td>\n",
       "      <td>Straight</td>\n",
       "      <td>10.0</td>\n",
       "      <td>26</td>\n",
       "      <td>$10,000 to $19,999</td>\n",
       "      <td>Overweight</td>\n",
       "      <td>Yes</td>\n",
       "      <td>Yes</td>\n",
       "      <td>No</td>\n",
       "      <td>No</td>\n",
       "    </tr>\n",
       "    <tr>\n",
       "      <th>465</th>\n",
       "      <td>Male</td>\n",
       "      <td>Straight</td>\n",
       "      <td>10.0</td>\n",
       "      <td>31</td>\n",
       "      <td>$30,000 to $39,999</td>\n",
       "      <td>Normal weight</td>\n",
       "      <td>No</td>\n",
       "      <td>No</td>\n",
       "      <td>No</td>\n",
       "      <td>No</td>\n",
       "    </tr>\n",
       "    <tr>\n",
       "      <th>466</th>\n",
       "      <td>Female</td>\n",
       "      <td>Straight</td>\n",
       "      <td>20.0</td>\n",
       "      <td>17</td>\n",
       "      <td>$1 to $10,000</td>\n",
       "      <td>Normal weight</td>\n",
       "      <td>Yes</td>\n",
       "      <td>Yes</td>\n",
       "      <td>Yes</td>\n",
       "      <td>Yes</td>\n",
       "    </tr>\n",
       "    <tr>\n",
       "      <th>467</th>\n",
       "      <td>Male</td>\n",
       "      <td>Straight</td>\n",
       "      <td>16.0</td>\n",
       "      <td>18</td>\n",
       "      <td>$0</td>\n",
       "      <td>Obese</td>\n",
       "      <td>Yes</td>\n",
       "      <td>Yes</td>\n",
       "      <td>Yes</td>\n",
       "      <td>No</td>\n",
       "    </tr>\n",
       "    <tr>\n",
       "      <th>468</th>\n",
       "      <td>Male</td>\n",
       "      <td>Straight</td>\n",
       "      <td>3.0</td>\n",
       "      <td>28</td>\n",
       "      <td>$40,000 to $49,999</td>\n",
       "      <td>Normal weight</td>\n",
       "      <td>Yes</td>\n",
       "      <td>Yes</td>\n",
       "      <td>Yes</td>\n",
       "      <td>No</td>\n",
       "    </tr>\n",
       "  </tbody>\n",
       "</table>\n",
       "<p>469 rows × 10 columns</p>\n",
       "</div>"
      ],
      "text/plain": [
       "     gender sexuallity  friends  age              income     bodyweight  \\\n",
       "0      Male   Straight      0.0   35  $30,000 to $39,999  Normal weight   \n",
       "1      Male   Bisexual      0.0   21       $1 to $10,000    Underweight   \n",
       "2      Male   Straight     10.0   22                  $0     Overweight   \n",
       "3      Male   Straight      8.0   19       $1 to $10,000     Overweight   \n",
       "4      Male   Straight     10.0   23  $30,000 to $39,999     Overweight   \n",
       "..      ...        ...      ...  ...                 ...            ...   \n",
       "464  Female   Straight     10.0   26  $10,000 to $19,999     Overweight   \n",
       "465    Male   Straight     10.0   31  $30,000 to $39,999  Normal weight   \n",
       "466  Female   Straight     20.0   17       $1 to $10,000  Normal weight   \n",
       "467    Male   Straight     16.0   18                  $0          Obese   \n",
       "468    Male   Straight      3.0   28  $40,000 to $49,999  Normal weight   \n",
       "\n",
       "    virgin social_fear depressed attempt_suicide  \n",
       "0      Yes         Yes       Yes             Yes  \n",
       "1      Yes         Yes       Yes              No  \n",
       "2      Yes         Yes       Yes              No  \n",
       "3      Yes         Yes       Yes              No  \n",
       "4       No          No       Yes              No  \n",
       "..     ...         ...       ...             ...  \n",
       "464    Yes         Yes        No              No  \n",
       "465     No          No        No              No  \n",
       "466    Yes         Yes       Yes             Yes  \n",
       "467    Yes         Yes       Yes              No  \n",
       "468    Yes         Yes       Yes              No  \n",
       "\n",
       "[469 rows x 10 columns]"
      ]
     },
     "execution_count": 9,
     "metadata": {},
     "output_type": "execute_result"
    }
   ],
   "source": [
    "df1"
   ]
  },
  {
   "cell_type": "code",
   "execution_count": 10,
   "metadata": {},
   "outputs": [
    {
     "data": {
      "text/plain": [
       "gender             0\n",
       "sexuallity         0\n",
       "friends            0\n",
       "age                0\n",
       "income             0\n",
       "bodyweight         0\n",
       "virgin             0\n",
       "social_fear        0\n",
       "depressed          0\n",
       "attempt_suicide    0\n",
       "dtype: int64"
      ]
     },
     "execution_count": 10,
     "metadata": {},
     "output_type": "execute_result"
    }
   ],
   "source": [
    "df1.isna().sum()"
   ]
  },
  {
   "cell_type": "code",
   "execution_count": 11,
   "metadata": {},
   "outputs": [],
   "source": [
    "cat_cols = ['gender', 'sexuallity', 'bodyweight', 'virgin', 'social_fear', 'depressed', 'attempt_suicide']"
   ]
  },
  {
   "cell_type": "code",
   "execution_count": 12,
   "metadata": {
    "scrolled": true
   },
   "outputs": [
    {
     "name": "stdout",
     "output_type": "stream",
     "text": [
      "-----------------------------------\n",
      "gender :\n",
      "Male                  393\n",
      "Female                 73\n",
      "Transgender male        2\n",
      "Transgender female      1\n",
      "Name: gender, dtype: int64\n",
      "Number of Unique values: 4\n",
      "\n",
      "\n",
      "-----------------------------------\n",
      "sexuallity :\n",
      "Straight       415\n",
      "Bisexual        46\n",
      "Gay/Lesbian      8\n",
      "Name: sexuallity, dtype: int64\n",
      "Number of Unique values: 3\n",
      "\n",
      "\n",
      "-----------------------------------\n",
      "bodyweight :\n",
      "Normal weight    269\n",
      "Overweight       113\n",
      "Underweight       62\n",
      "Obese             25\n",
      "Name: bodyweight, dtype: int64\n",
      "Number of Unique values: 4\n",
      "\n",
      "\n",
      "-----------------------------------\n",
      "virgin :\n",
      "Yes    352\n",
      "No     117\n",
      "Name: virgin, dtype: int64\n",
      "Number of Unique values: 2\n",
      "\n",
      "\n",
      "-----------------------------------\n",
      "social_fear :\n",
      "Yes    308\n",
      "No     161\n",
      "Name: social_fear, dtype: int64\n",
      "Number of Unique values: 2\n",
      "\n",
      "\n",
      "-----------------------------------\n",
      "depressed :\n",
      "Yes    312\n",
      "No     157\n",
      "Name: depressed, dtype: int64\n",
      "Number of Unique values: 2\n",
      "\n",
      "\n",
      "-----------------------------------\n",
      "attempt_suicide :\n",
      "No     384\n",
      "Yes     85\n",
      "Name: attempt_suicide, dtype: int64\n",
      "Number of Unique values: 2\n",
      "\n",
      "\n"
     ]
    }
   ],
   "source": [
    "for i in cat_cols:\n",
    "    print('-----------------------------------')\n",
    "    print(i, ':')\n",
    "    print(df1[i].value_counts())\n",
    "    #print('Unique Values :', df[i].unique())\n",
    "    print('Number of Unique values:', len(df[i].unique()))\n",
    "    print('\\n')"
   ]
  },
  {
   "cell_type": "code",
   "execution_count": 13,
   "metadata": {},
   "outputs": [
    {
     "name": "stderr",
     "output_type": "stream",
     "text": [
      "c:\\users\\agraw\\appdata\\local\\programs\\python\\python38-32\\lib\\site-packages\\pandas\\core\\generic.py:6746: SettingWithCopyWarning: \n",
      "A value is trying to be set on a copy of a slice from a DataFrame\n",
      "\n",
      "See the caveats in the documentation: https://pandas.pydata.org/pandas-docs/stable/user_guide/indexing.html#returning-a-view-versus-a-copy\n",
      "  self._update_inplace(new_data)\n"
     ]
    }
   ],
   "source": [
    "df1['gender'].replace('Transgender male', 'Male', inplace=True)\n",
    "\n",
    "df1['gender'].replace('Transgender female', 'Female', inplace=True)"
   ]
  },
  {
   "cell_type": "code",
   "execution_count": 14,
   "metadata": {},
   "outputs": [
    {
     "data": {
      "text/plain": [
       "gender              2\n",
       "sexuallity          3\n",
       "friends            30\n",
       "age                35\n",
       "income             13\n",
       "bodyweight          4\n",
       "virgin              2\n",
       "social_fear         2\n",
       "depressed           2\n",
       "attempt_suicide     2\n",
       "dtype: int64"
      ]
     },
     "execution_count": 14,
     "metadata": {},
     "output_type": "execute_result"
    }
   ],
   "source": [
    "df1.nunique()"
   ]
  },
  {
   "cell_type": "code",
   "execution_count": 15,
   "metadata": {},
   "outputs": [
    {
     "data": {
      "text/html": [
       "<div>\n",
       "<style scoped>\n",
       "    .dataframe tbody tr th:only-of-type {\n",
       "        vertical-align: middle;\n",
       "    }\n",
       "\n",
       "    .dataframe tbody tr th {\n",
       "        vertical-align: top;\n",
       "    }\n",
       "\n",
       "    .dataframe thead th {\n",
       "        text-align: right;\n",
       "    }\n",
       "</style>\n",
       "<table border=\"1\" class=\"dataframe\">\n",
       "  <thead>\n",
       "    <tr style=\"text-align: right;\">\n",
       "      <th></th>\n",
       "      <th>gender</th>\n",
       "      <th>sexuallity</th>\n",
       "      <th>friends</th>\n",
       "      <th>age</th>\n",
       "      <th>income</th>\n",
       "      <th>bodyweight</th>\n",
       "      <th>virgin</th>\n",
       "      <th>social_fear</th>\n",
       "      <th>depressed</th>\n",
       "      <th>attempt_suicide</th>\n",
       "    </tr>\n",
       "  </thead>\n",
       "  <tbody>\n",
       "    <tr>\n",
       "      <th>0</th>\n",
       "      <td>Male</td>\n",
       "      <td>Straight</td>\n",
       "      <td>0.0</td>\n",
       "      <td>35</td>\n",
       "      <td>$30,000 to $39,999</td>\n",
       "      <td>Normal weight</td>\n",
       "      <td>Yes</td>\n",
       "      <td>Yes</td>\n",
       "      <td>Yes</td>\n",
       "      <td>Yes</td>\n",
       "    </tr>\n",
       "    <tr>\n",
       "      <th>1</th>\n",
       "      <td>Male</td>\n",
       "      <td>Bisexual</td>\n",
       "      <td>0.0</td>\n",
       "      <td>21</td>\n",
       "      <td>$1 to $10,000</td>\n",
       "      <td>Underweight</td>\n",
       "      <td>Yes</td>\n",
       "      <td>Yes</td>\n",
       "      <td>Yes</td>\n",
       "      <td>No</td>\n",
       "    </tr>\n",
       "    <tr>\n",
       "      <th>2</th>\n",
       "      <td>Male</td>\n",
       "      <td>Straight</td>\n",
       "      <td>10.0</td>\n",
       "      <td>22</td>\n",
       "      <td>$0</td>\n",
       "      <td>Overweight</td>\n",
       "      <td>Yes</td>\n",
       "      <td>Yes</td>\n",
       "      <td>Yes</td>\n",
       "      <td>No</td>\n",
       "    </tr>\n",
       "    <tr>\n",
       "      <th>3</th>\n",
       "      <td>Male</td>\n",
       "      <td>Straight</td>\n",
       "      <td>8.0</td>\n",
       "      <td>19</td>\n",
       "      <td>$1 to $10,000</td>\n",
       "      <td>Overweight</td>\n",
       "      <td>Yes</td>\n",
       "      <td>Yes</td>\n",
       "      <td>Yes</td>\n",
       "      <td>No</td>\n",
       "    </tr>\n",
       "    <tr>\n",
       "      <th>4</th>\n",
       "      <td>Male</td>\n",
       "      <td>Straight</td>\n",
       "      <td>10.0</td>\n",
       "      <td>23</td>\n",
       "      <td>$30,000 to $39,999</td>\n",
       "      <td>Overweight</td>\n",
       "      <td>No</td>\n",
       "      <td>No</td>\n",
       "      <td>Yes</td>\n",
       "      <td>No</td>\n",
       "    </tr>\n",
       "    <tr>\n",
       "      <th>...</th>\n",
       "      <td>...</td>\n",
       "      <td>...</td>\n",
       "      <td>...</td>\n",
       "      <td>...</td>\n",
       "      <td>...</td>\n",
       "      <td>...</td>\n",
       "      <td>...</td>\n",
       "      <td>...</td>\n",
       "      <td>...</td>\n",
       "      <td>...</td>\n",
       "    </tr>\n",
       "    <tr>\n",
       "      <th>464</th>\n",
       "      <td>Female</td>\n",
       "      <td>Straight</td>\n",
       "      <td>10.0</td>\n",
       "      <td>26</td>\n",
       "      <td>$10,000 to $19,999</td>\n",
       "      <td>Overweight</td>\n",
       "      <td>Yes</td>\n",
       "      <td>Yes</td>\n",
       "      <td>No</td>\n",
       "      <td>No</td>\n",
       "    </tr>\n",
       "    <tr>\n",
       "      <th>465</th>\n",
       "      <td>Male</td>\n",
       "      <td>Straight</td>\n",
       "      <td>10.0</td>\n",
       "      <td>31</td>\n",
       "      <td>$30,000 to $39,999</td>\n",
       "      <td>Normal weight</td>\n",
       "      <td>No</td>\n",
       "      <td>No</td>\n",
       "      <td>No</td>\n",
       "      <td>No</td>\n",
       "    </tr>\n",
       "    <tr>\n",
       "      <th>466</th>\n",
       "      <td>Female</td>\n",
       "      <td>Straight</td>\n",
       "      <td>20.0</td>\n",
       "      <td>17</td>\n",
       "      <td>$1 to $10,000</td>\n",
       "      <td>Normal weight</td>\n",
       "      <td>Yes</td>\n",
       "      <td>Yes</td>\n",
       "      <td>Yes</td>\n",
       "      <td>Yes</td>\n",
       "    </tr>\n",
       "    <tr>\n",
       "      <th>467</th>\n",
       "      <td>Male</td>\n",
       "      <td>Straight</td>\n",
       "      <td>16.0</td>\n",
       "      <td>18</td>\n",
       "      <td>$0</td>\n",
       "      <td>Obese</td>\n",
       "      <td>Yes</td>\n",
       "      <td>Yes</td>\n",
       "      <td>Yes</td>\n",
       "      <td>No</td>\n",
       "    </tr>\n",
       "    <tr>\n",
       "      <th>468</th>\n",
       "      <td>Male</td>\n",
       "      <td>Straight</td>\n",
       "      <td>3.0</td>\n",
       "      <td>28</td>\n",
       "      <td>$40,000 to $49,999</td>\n",
       "      <td>Normal weight</td>\n",
       "      <td>Yes</td>\n",
       "      <td>Yes</td>\n",
       "      <td>Yes</td>\n",
       "      <td>No</td>\n",
       "    </tr>\n",
       "  </tbody>\n",
       "</table>\n",
       "<p>469 rows × 10 columns</p>\n",
       "</div>"
      ],
      "text/plain": [
       "     gender sexuallity  friends  age              income     bodyweight  \\\n",
       "0      Male   Straight      0.0   35  $30,000 to $39,999  Normal weight   \n",
       "1      Male   Bisexual      0.0   21       $1 to $10,000    Underweight   \n",
       "2      Male   Straight     10.0   22                  $0     Overweight   \n",
       "3      Male   Straight      8.0   19       $1 to $10,000     Overweight   \n",
       "4      Male   Straight     10.0   23  $30,000 to $39,999     Overweight   \n",
       "..      ...        ...      ...  ...                 ...            ...   \n",
       "464  Female   Straight     10.0   26  $10,000 to $19,999     Overweight   \n",
       "465    Male   Straight     10.0   31  $30,000 to $39,999  Normal weight   \n",
       "466  Female   Straight     20.0   17       $1 to $10,000  Normal weight   \n",
       "467    Male   Straight     16.0   18                  $0          Obese   \n",
       "468    Male   Straight      3.0   28  $40,000 to $49,999  Normal weight   \n",
       "\n",
       "    virgin social_fear depressed attempt_suicide  \n",
       "0      Yes         Yes       Yes             Yes  \n",
       "1      Yes         Yes       Yes              No  \n",
       "2      Yes         Yes       Yes              No  \n",
       "3      Yes         Yes       Yes              No  \n",
       "4       No          No       Yes              No  \n",
       "..     ...         ...       ...             ...  \n",
       "464    Yes         Yes        No              No  \n",
       "465     No          No        No              No  \n",
       "466    Yes         Yes       Yes             Yes  \n",
       "467    Yes         Yes       Yes              No  \n",
       "468    Yes         Yes       Yes              No  \n",
       "\n",
       "[469 rows x 10 columns]"
      ]
     },
     "execution_count": 15,
     "metadata": {},
     "output_type": "execute_result"
    }
   ],
   "source": [
    "df1"
   ]
  },
  {
   "cell_type": "code",
   "execution_count": 16,
   "metadata": {},
   "outputs": [
    {
     "data": {
      "text/plain": [
       "0      $30,000 to $39,999\n",
       "1           $1 to $10,000\n",
       "2                      $0\n",
       "3           $1 to $10,000\n",
       "4      $30,000 to $39,999\n",
       "              ...        \n",
       "464    $10,000 to $19,999\n",
       "465    $30,000 to $39,999\n",
       "466         $1 to $10,000\n",
       "467                    $0\n",
       "468    $40,000 to $49,999\n",
       "Name: income, Length: 469, dtype: object"
      ]
     },
     "execution_count": 16,
     "metadata": {},
     "output_type": "execute_result"
    }
   ],
   "source": [
    "df1['income']"
   ]
  },
  {
   "cell_type": "code",
   "execution_count": 17,
   "metadata": {},
   "outputs": [
    {
     "name": "stderr",
     "output_type": "stream",
     "text": [
      "<ipython-input-17-fe0b2a01ed90>:1: SettingWithCopyWarning: \n",
      "A value is trying to be set on a copy of a slice from a DataFrame.\n",
      "Try using .loc[row_indexer,col_indexer] = value instead\n",
      "\n",
      "See the caveats in the documentation: https://pandas.pydata.org/pandas-docs/stable/user_guide/indexing.html#returning-a-view-versus-a-copy\n",
      "  df1['income'] = df1['income'].apply([lambda x : x.replace('$', '')])\n",
      "<ipython-input-17-fe0b2a01ed90>:2: SettingWithCopyWarning: \n",
      "A value is trying to be set on a copy of a slice from a DataFrame.\n",
      "Try using .loc[row_indexer,col_indexer] = value instead\n",
      "\n",
      "See the caveats in the documentation: https://pandas.pydata.org/pandas-docs/stable/user_guide/indexing.html#returning-a-view-versus-a-copy\n",
      "  df1['income'] = df1['income'].apply([lambda x : x.replace('to', '+')])\n",
      "<ipython-input-17-fe0b2a01ed90>:3: SettingWithCopyWarning: \n",
      "A value is trying to be set on a copy of a slice from a DataFrame.\n",
      "Try using .loc[row_indexer,col_indexer] = value instead\n",
      "\n",
      "See the caveats in the documentation: https://pandas.pydata.org/pandas-docs/stable/user_guide/indexing.html#returning-a-view-versus-a-copy\n",
      "  df1['income'] = df1['income'].apply([lambda x : x.replace(',', '')])\n",
      "<ipython-input-17-fe0b2a01ed90>:4: SettingWithCopyWarning: \n",
      "A value is trying to be set on a copy of a slice from a DataFrame.\n",
      "Try using .loc[row_indexer,col_indexer] = value instead\n",
      "\n",
      "See the caveats in the documentation: https://pandas.pydata.org/pandas-docs/stable/user_guide/indexing.html#returning-a-view-versus-a-copy\n",
      "  df1['income'] = df1['income'].apply([lambda x : x.replace('or more', '+ 0')])\n"
     ]
    }
   ],
   "source": [
    "df1['income'] = df1['income'].apply([lambda x : x.replace('$', '')])\n",
    "df1['income'] = df1['income'].apply([lambda x : x.replace('to', '+')])\n",
    "df1['income'] = df1['income'].apply([lambda x : x.replace(',', '')])\n",
    "df1['income'] = df1['income'].apply([lambda x : x.replace('or more', '+ 0')])"
   ]
  },
  {
   "cell_type": "code",
   "execution_count": 18,
   "metadata": {},
   "outputs": [
    {
     "name": "stderr",
     "output_type": "stream",
     "text": [
      "<ipython-input-18-32cfd3ae591e>:1: SettingWithCopyWarning: \n",
      "A value is trying to be set on a copy of a slice from a DataFrame.\n",
      "Try using .loc[row_indexer,col_indexer] = value instead\n",
      "\n",
      "See the caveats in the documentation: https://pandas.pydata.org/pandas-docs/stable/user_guide/indexing.html#returning-a-view-versus-a-copy\n",
      "  df1['income'] = df1['income'].apply(lambda x : eval(x))\n"
     ]
    }
   ],
   "source": [
    "df1['income'] = df1['income'].apply(lambda x : eval(x))"
   ]
  },
  {
   "cell_type": "code",
   "execution_count": 19,
   "metadata": {},
   "outputs": [
    {
     "data": {
      "text/plain": [
       "0      69999\n",
       "1      10001\n",
       "2          0\n",
       "3      10001\n",
       "4      69999\n",
       "       ...  \n",
       "464    29999\n",
       "465    69999\n",
       "466    10001\n",
       "467        0\n",
       "468    89999\n",
       "Name: income, Length: 469, dtype: int32"
      ]
     },
     "execution_count": 19,
     "metadata": {},
     "output_type": "execute_result"
    }
   ],
   "source": [
    "df1['income'].astype('int32')"
   ]
  },
  {
   "cell_type": "code",
   "execution_count": 20,
   "metadata": {
    "scrolled": true
   },
   "outputs": [
    {
     "data": {
      "text/plain": [
       "0         160\n",
       "10001     100\n",
       "29999      58\n",
       "49999      44\n",
       "69999      39\n",
       "124999     28\n",
       "89999      16\n",
       "174999      9\n",
       "274999      6\n",
       "224999      3\n",
       "324999      2\n",
       "200000      2\n",
       "374998      2\n",
       "Name: income, dtype: int64"
      ]
     },
     "execution_count": 20,
     "metadata": {},
     "output_type": "execute_result"
    }
   ],
   "source": [
    "df1['income'].value_counts()"
   ]
  },
  {
   "cell_type": "code",
   "execution_count": 21,
   "metadata": {
    "scrolled": true
   },
   "outputs": [
    {
     "data": {
      "text/html": [
       "<div>\n",
       "<style scoped>\n",
       "    .dataframe tbody tr th:only-of-type {\n",
       "        vertical-align: middle;\n",
       "    }\n",
       "\n",
       "    .dataframe tbody tr th {\n",
       "        vertical-align: top;\n",
       "    }\n",
       "\n",
       "    .dataframe thead th {\n",
       "        text-align: right;\n",
       "    }\n",
       "</style>\n",
       "<table border=\"1\" class=\"dataframe\">\n",
       "  <thead>\n",
       "    <tr style=\"text-align: right;\">\n",
       "      <th></th>\n",
       "      <th>gender</th>\n",
       "      <th>sexuallity</th>\n",
       "      <th>friends</th>\n",
       "      <th>age</th>\n",
       "      <th>income</th>\n",
       "      <th>bodyweight</th>\n",
       "      <th>virgin</th>\n",
       "      <th>social_fear</th>\n",
       "      <th>depressed</th>\n",
       "      <th>attempt_suicide</th>\n",
       "    </tr>\n",
       "  </thead>\n",
       "  <tbody>\n",
       "    <tr>\n",
       "      <th>0</th>\n",
       "      <td>Male</td>\n",
       "      <td>Straight</td>\n",
       "      <td>0.0</td>\n",
       "      <td>35</td>\n",
       "      <td>69999</td>\n",
       "      <td>Normal weight</td>\n",
       "      <td>Yes</td>\n",
       "      <td>Yes</td>\n",
       "      <td>Yes</td>\n",
       "      <td>Yes</td>\n",
       "    </tr>\n",
       "    <tr>\n",
       "      <th>1</th>\n",
       "      <td>Male</td>\n",
       "      <td>Bisexual</td>\n",
       "      <td>0.0</td>\n",
       "      <td>21</td>\n",
       "      <td>10001</td>\n",
       "      <td>Underweight</td>\n",
       "      <td>Yes</td>\n",
       "      <td>Yes</td>\n",
       "      <td>Yes</td>\n",
       "      <td>No</td>\n",
       "    </tr>\n",
       "    <tr>\n",
       "      <th>2</th>\n",
       "      <td>Male</td>\n",
       "      <td>Straight</td>\n",
       "      <td>10.0</td>\n",
       "      <td>22</td>\n",
       "      <td>0</td>\n",
       "      <td>Overweight</td>\n",
       "      <td>Yes</td>\n",
       "      <td>Yes</td>\n",
       "      <td>Yes</td>\n",
       "      <td>No</td>\n",
       "    </tr>\n",
       "    <tr>\n",
       "      <th>3</th>\n",
       "      <td>Male</td>\n",
       "      <td>Straight</td>\n",
       "      <td>8.0</td>\n",
       "      <td>19</td>\n",
       "      <td>10001</td>\n",
       "      <td>Overweight</td>\n",
       "      <td>Yes</td>\n",
       "      <td>Yes</td>\n",
       "      <td>Yes</td>\n",
       "      <td>No</td>\n",
       "    </tr>\n",
       "    <tr>\n",
       "      <th>4</th>\n",
       "      <td>Male</td>\n",
       "      <td>Straight</td>\n",
       "      <td>10.0</td>\n",
       "      <td>23</td>\n",
       "      <td>69999</td>\n",
       "      <td>Overweight</td>\n",
       "      <td>No</td>\n",
       "      <td>No</td>\n",
       "      <td>Yes</td>\n",
       "      <td>No</td>\n",
       "    </tr>\n",
       "    <tr>\n",
       "      <th>...</th>\n",
       "      <td>...</td>\n",
       "      <td>...</td>\n",
       "      <td>...</td>\n",
       "      <td>...</td>\n",
       "      <td>...</td>\n",
       "      <td>...</td>\n",
       "      <td>...</td>\n",
       "      <td>...</td>\n",
       "      <td>...</td>\n",
       "      <td>...</td>\n",
       "    </tr>\n",
       "    <tr>\n",
       "      <th>464</th>\n",
       "      <td>Female</td>\n",
       "      <td>Straight</td>\n",
       "      <td>10.0</td>\n",
       "      <td>26</td>\n",
       "      <td>29999</td>\n",
       "      <td>Overweight</td>\n",
       "      <td>Yes</td>\n",
       "      <td>Yes</td>\n",
       "      <td>No</td>\n",
       "      <td>No</td>\n",
       "    </tr>\n",
       "    <tr>\n",
       "      <th>465</th>\n",
       "      <td>Male</td>\n",
       "      <td>Straight</td>\n",
       "      <td>10.0</td>\n",
       "      <td>31</td>\n",
       "      <td>69999</td>\n",
       "      <td>Normal weight</td>\n",
       "      <td>No</td>\n",
       "      <td>No</td>\n",
       "      <td>No</td>\n",
       "      <td>No</td>\n",
       "    </tr>\n",
       "    <tr>\n",
       "      <th>466</th>\n",
       "      <td>Female</td>\n",
       "      <td>Straight</td>\n",
       "      <td>20.0</td>\n",
       "      <td>17</td>\n",
       "      <td>10001</td>\n",
       "      <td>Normal weight</td>\n",
       "      <td>Yes</td>\n",
       "      <td>Yes</td>\n",
       "      <td>Yes</td>\n",
       "      <td>Yes</td>\n",
       "    </tr>\n",
       "    <tr>\n",
       "      <th>467</th>\n",
       "      <td>Male</td>\n",
       "      <td>Straight</td>\n",
       "      <td>16.0</td>\n",
       "      <td>18</td>\n",
       "      <td>0</td>\n",
       "      <td>Obese</td>\n",
       "      <td>Yes</td>\n",
       "      <td>Yes</td>\n",
       "      <td>Yes</td>\n",
       "      <td>No</td>\n",
       "    </tr>\n",
       "    <tr>\n",
       "      <th>468</th>\n",
       "      <td>Male</td>\n",
       "      <td>Straight</td>\n",
       "      <td>3.0</td>\n",
       "      <td>28</td>\n",
       "      <td>89999</td>\n",
       "      <td>Normal weight</td>\n",
       "      <td>Yes</td>\n",
       "      <td>Yes</td>\n",
       "      <td>Yes</td>\n",
       "      <td>No</td>\n",
       "    </tr>\n",
       "  </tbody>\n",
       "</table>\n",
       "<p>469 rows × 10 columns</p>\n",
       "</div>"
      ],
      "text/plain": [
       "     gender sexuallity  friends  age  income     bodyweight virgin  \\\n",
       "0      Male   Straight      0.0   35   69999  Normal weight    Yes   \n",
       "1      Male   Bisexual      0.0   21   10001    Underweight    Yes   \n",
       "2      Male   Straight     10.0   22       0     Overweight    Yes   \n",
       "3      Male   Straight      8.0   19   10001     Overweight    Yes   \n",
       "4      Male   Straight     10.0   23   69999     Overweight     No   \n",
       "..      ...        ...      ...  ...     ...            ...    ...   \n",
       "464  Female   Straight     10.0   26   29999     Overweight    Yes   \n",
       "465    Male   Straight     10.0   31   69999  Normal weight     No   \n",
       "466  Female   Straight     20.0   17   10001  Normal weight    Yes   \n",
       "467    Male   Straight     16.0   18       0          Obese    Yes   \n",
       "468    Male   Straight      3.0   28   89999  Normal weight    Yes   \n",
       "\n",
       "    social_fear depressed attempt_suicide  \n",
       "0           Yes       Yes             Yes  \n",
       "1           Yes       Yes              No  \n",
       "2           Yes       Yes              No  \n",
       "3           Yes       Yes              No  \n",
       "4            No       Yes              No  \n",
       "..          ...       ...             ...  \n",
       "464         Yes        No              No  \n",
       "465          No        No              No  \n",
       "466         Yes       Yes             Yes  \n",
       "467         Yes       Yes              No  \n",
       "468         Yes       Yes              No  \n",
       "\n",
       "[469 rows x 10 columns]"
      ]
     },
     "execution_count": 21,
     "metadata": {},
     "output_type": "execute_result"
    }
   ],
   "source": [
    "df1"
   ]
  },
  {
   "cell_type": "code",
   "execution_count": 22,
   "metadata": {},
   "outputs": [
    {
     "name": "stdout",
     "output_type": "stream",
     "text": [
      "<class 'pandas.core.frame.DataFrame'>\n",
      "RangeIndex: 469 entries, 0 to 468\n",
      "Data columns (total 10 columns):\n",
      " #   Column           Non-Null Count  Dtype  \n",
      "---  ------           --------------  -----  \n",
      " 0   gender           469 non-null    object \n",
      " 1   sexuallity       469 non-null    object \n",
      " 2   friends          469 non-null    float64\n",
      " 3   age              469 non-null    int64  \n",
      " 4   income           469 non-null    int64  \n",
      " 5   bodyweight       469 non-null    object \n",
      " 6   virgin           469 non-null    object \n",
      " 7   social_fear      469 non-null    object \n",
      " 8   depressed        469 non-null    object \n",
      " 9   attempt_suicide  469 non-null    object \n",
      "dtypes: float64(1), int64(2), object(7)\n",
      "memory usage: 23.9+ KB\n"
     ]
    }
   ],
   "source": [
    "df1.info()"
   ]
  },
  {
   "cell_type": "code",
   "execution_count": 23,
   "metadata": {},
   "outputs": [
    {
     "data": {
      "text/plain": [
       "Index(['gender', 'sexuallity', 'friends', 'age', 'income', 'bodyweight',\n",
       "       'virgin', 'social_fear', 'depressed', 'attempt_suicide'],\n",
       "      dtype='object')"
      ]
     },
     "execution_count": 23,
     "metadata": {},
     "output_type": "execute_result"
    }
   ],
   "source": [
    "df1.columns"
   ]
  },
  {
   "cell_type": "code",
   "execution_count": 24,
   "metadata": {},
   "outputs": [
    {
     "name": "stdout",
     "output_type": "stream",
     "text": [
      "<class 'pandas.core.frame.DataFrame'>\n",
      "RangeIndex: 469 entries, 0 to 468\n",
      "Data columns (total 10 columns):\n",
      " #   Column           Non-Null Count  Dtype  \n",
      "---  ------           --------------  -----  \n",
      " 0   gender           469 non-null    object \n",
      " 1   sexuallity       469 non-null    object \n",
      " 2   friends          469 non-null    float64\n",
      " 3   age              469 non-null    int64  \n",
      " 4   income           469 non-null    int64  \n",
      " 5   bodyweight       469 non-null    object \n",
      " 6   virgin           469 non-null    object \n",
      " 7   social_fear      469 non-null    object \n",
      " 8   depressed        469 non-null    object \n",
      " 9   attempt_suicide  469 non-null    object \n",
      "dtypes: float64(1), int64(2), object(7)\n",
      "memory usage: 23.9+ KB\n"
     ]
    }
   ],
   "source": [
    "df1.info()"
   ]
  },
  {
   "cell_type": "code",
   "execution_count": 25,
   "metadata": {},
   "outputs": [
    {
     "data": {
      "text/html": [
       "<div>\n",
       "<style scoped>\n",
       "    .dataframe tbody tr th:only-of-type {\n",
       "        vertical-align: middle;\n",
       "    }\n",
       "\n",
       "    .dataframe tbody tr th {\n",
       "        vertical-align: top;\n",
       "    }\n",
       "\n",
       "    .dataframe thead th {\n",
       "        text-align: right;\n",
       "    }\n",
       "</style>\n",
       "<table border=\"1\" class=\"dataframe\">\n",
       "  <thead>\n",
       "    <tr style=\"text-align: right;\">\n",
       "      <th></th>\n",
       "      <th>friends</th>\n",
       "      <th>age</th>\n",
       "      <th>income</th>\n",
       "    </tr>\n",
       "  </thead>\n",
       "  <tbody>\n",
       "    <tr>\n",
       "      <th>count</th>\n",
       "      <td>469.000000</td>\n",
       "      <td>469.000000</td>\n",
       "      <td>469.000000</td>\n",
       "    </tr>\n",
       "    <tr>\n",
       "      <th>mean</th>\n",
       "      <td>7.956716</td>\n",
       "      <td>23.963753</td>\n",
       "      <td>39040.279318</td>\n",
       "    </tr>\n",
       "    <tr>\n",
       "      <th>std</th>\n",
       "      <td>34.371500</td>\n",
       "      <td>6.023526</td>\n",
       "      <td>59723.247442</td>\n",
       "    </tr>\n",
       "    <tr>\n",
       "      <th>min</th>\n",
       "      <td>0.000000</td>\n",
       "      <td>12.000000</td>\n",
       "      <td>0.000000</td>\n",
       "    </tr>\n",
       "    <tr>\n",
       "      <th>25%</th>\n",
       "      <td>1.000000</td>\n",
       "      <td>20.000000</td>\n",
       "      <td>0.000000</td>\n",
       "    </tr>\n",
       "    <tr>\n",
       "      <th>50%</th>\n",
       "      <td>3.000000</td>\n",
       "      <td>23.000000</td>\n",
       "      <td>10001.000000</td>\n",
       "    </tr>\n",
       "    <tr>\n",
       "      <th>75%</th>\n",
       "      <td>7.000000</td>\n",
       "      <td>26.000000</td>\n",
       "      <td>49999.000000</td>\n",
       "    </tr>\n",
       "    <tr>\n",
       "      <th>max</th>\n",
       "      <td>600.000000</td>\n",
       "      <td>70.000000</td>\n",
       "      <td>374998.000000</td>\n",
       "    </tr>\n",
       "  </tbody>\n",
       "</table>\n",
       "</div>"
      ],
      "text/plain": [
       "          friends         age         income\n",
       "count  469.000000  469.000000     469.000000\n",
       "mean     7.956716   23.963753   39040.279318\n",
       "std     34.371500    6.023526   59723.247442\n",
       "min      0.000000   12.000000       0.000000\n",
       "25%      1.000000   20.000000       0.000000\n",
       "50%      3.000000   23.000000   10001.000000\n",
       "75%      7.000000   26.000000   49999.000000\n",
       "max    600.000000   70.000000  374998.000000"
      ]
     },
     "execution_count": 25,
     "metadata": {},
     "output_type": "execute_result"
    }
   ],
   "source": [
    "df1.describe()"
   ]
  },
  {
   "cell_type": "code",
   "execution_count": 26,
   "metadata": {
    "scrolled": true
   },
   "outputs": [
    {
     "data": {
      "text/plain": [
       "<matplotlib.axes._subplots.AxesSubplot at 0x13e8efa0>"
      ]
     },
     "execution_count": 26,
     "metadata": {},
     "output_type": "execute_result"
    },
    {
     "data": {
      "image/png": "[encoded data removed]",
      "text/plain": [
       "<Figure size 432x288 with 1 Axes>"
      ]
     },
     "metadata": {
      "needs_background": "light"
     },
     "output_type": "display_data"
    }
   ],
   "source": [
    "sns.countplot(df1['gender'])"
   ]
  },
  {
   "cell_type": "code",
   "execution_count": 27,
   "metadata": {},
   "outputs": [
    {
     "data": {
      "text/plain": [
       "<matplotlib.axes._subplots.AxesSubplot at 0x1501c418>"
      ]
     },
     "execution_count": 27,
     "metadata": {},
     "output_type": "execute_result"
    },
    {
     "data": {
      "image/png": "[encoded data removed]",
      "text/plain": [
       "<Figure size 432x288 with 1 Axes>"
      ]
     },
     "metadata": {
      "needs_background": "light"
     },
     "output_type": "display_data"
    }
   ],
   "source": [
    "sns.countplot(df1['sexuallity'])"
   ]
  },
  {
   "cell_type": "code",
   "execution_count": 28,
   "metadata": {},
   "outputs": [
    {
     "data": {
      "text/plain": [
       "<matplotlib.axes._subplots.AxesSubplot at 0x15064430>"
      ]
     },
     "execution_count": 28,
     "metadata": {},
     "output_type": "execute_result"
    },
    {
     "data": {
      "image/png": "[encoded data removed]",
      "text/plain": [
       "<Figure size 432x288 with 1 Axes>"
      ]
     },
     "metadata": {
      "needs_background": "light"
     },
     "output_type": "display_data"
    }
   ],
   "source": [
    "sns.countplot(df1['attempt_suicide'])"
   ]
  },
  {
   "cell_type": "code",
   "execution_count": 29,
   "metadata": {},
   "outputs": [
    {
     "data": {
      "text/plain": [
       "<matplotlib.axes._subplots.AxesSubplot at 0x150981c0>"
      ]
     },
     "execution_count": 29,
     "metadata": {},
     "output_type": "execute_result"
    },
    {
     "data": {
      "image/png": "[encoded data removed]",
      "text/plain": [
       "<Figure size 432x288 with 1 Axes>"
      ]
     },
     "metadata": {
      "needs_background": "light"
     },
     "output_type": "display_data"
    }
   ],
   "source": [
    "sns.countplot(df1['bodyweight'])"
   ]
  },
  {
   "cell_type": "code",
   "execution_count": 30,
   "metadata": {},
   "outputs": [
    {
     "data": {
      "text/plain": [
       "<matplotlib.axes._subplots.AxesSubplot at 0x150c8568>"
      ]
     },
     "execution_count": 30,
     "metadata": {},
     "output_type": "execute_result"
    },
    {
     "data": {
      "image/png": "[encoded data removed]",
      "text/plain": [
       "<Figure size 432x288 with 1 Axes>"
      ]
     },
     "metadata": {
      "needs_background": "light"
     },
     "output_type": "display_data"
    }
   ],
   "source": [
    "sns.countplot(df1['virgin'])"
   ]
  },
  {
   "cell_type": "code",
   "execution_count": 31,
   "metadata": {},
   "outputs": [
    {
     "data": {
      "text/plain": [
       "<matplotlib.axes._subplots.AxesSubplot at 0x150f0be0>"
      ]
     },
     "execution_count": 31,
     "metadata": {},
     "output_type": "execute_result"
    },
    {
     "data": {
      "image/png": "[encoded data removed]",
      "text/plain": [
       "<Figure size 432x288 with 1 Axes>"
      ]
     },
     "metadata": {
      "needs_background": "light"
     },
     "output_type": "display_data"
    }
   ],
   "source": [
    "sns.countplot(df1['social_fear'])"
   ]
  },
  {
   "cell_type": "code",
   "execution_count": 32,
   "metadata": {},
   "outputs": [
    {
     "data": {
      "text/plain": [
       "<matplotlib.axes._subplots.AxesSubplot at 0x151198b0>"
      ]
     },
     "execution_count": 32,
     "metadata": {},
     "output_type": "execute_result"
    },
    {
     "data": {
      "image/png": "[encoded data removed]",
      "text/plain": [
       "<Figure size 432x288 with 1 Axes>"
      ]
     },
     "metadata": {
      "needs_background": "light"
     },
     "output_type": "display_data"
    }
   ],
   "source": [
    "sns.countplot(df1['depressed'])"
   ]
  },
  {
   "cell_type": "code",
   "execution_count": 33,
   "metadata": {},
   "outputs": [
    {
     "data": {
      "text/html": [
       "<div>\n",
       "<style scoped>\n",
       "    .dataframe tbody tr th:only-of-type {\n",
       "        vertical-align: middle;\n",
       "    }\n",
       "\n",
       "    .dataframe tbody tr th {\n",
       "        vertical-align: top;\n",
       "    }\n",
       "\n",
       "    .dataframe thead th {\n",
       "        text-align: right;\n",
       "    }\n",
       "</style>\n",
       "<table border=\"1\" class=\"dataframe\">\n",
       "  <thead>\n",
       "    <tr style=\"text-align: right;\">\n",
       "      <th></th>\n",
       "      <th>friends</th>\n",
       "      <th>age</th>\n",
       "      <th>income</th>\n",
       "    </tr>\n",
       "  </thead>\n",
       "  <tbody>\n",
       "    <tr>\n",
       "      <th>friends</th>\n",
       "      <td>1.000000</td>\n",
       "      <td>0.050807</td>\n",
       "      <td>0.120732</td>\n",
       "    </tr>\n",
       "    <tr>\n",
       "      <th>age</th>\n",
       "      <td>0.050807</td>\n",
       "      <td>1.000000</td>\n",
       "      <td>0.422088</td>\n",
       "    </tr>\n",
       "    <tr>\n",
       "      <th>income</th>\n",
       "      <td>0.120732</td>\n",
       "      <td>0.422088</td>\n",
       "      <td>1.000000</td>\n",
       "    </tr>\n",
       "  </tbody>\n",
       "</table>\n",
       "</div>"
      ],
      "text/plain": [
       "          friends       age    income\n",
       "friends  1.000000  0.050807  0.120732\n",
       "age      0.050807  1.000000  0.422088\n",
       "income   0.120732  0.422088  1.000000"
      ]
     },
     "execution_count": 33,
     "metadata": {},
     "output_type": "execute_result"
    }
   ],
   "source": [
    "df1.corr()"
   ]
  },
  {
   "cell_type": "code",
   "execution_count": 34,
   "metadata": {},
   "outputs": [
    {
     "data": {
      "text/plain": [
       "<matplotlib.axes._subplots.AxesSubplot at 0x151194d8>"
      ]
     },
     "execution_count": 34,
     "metadata": {},
     "output_type": "execute_result"
    },
    {
     "data": {
      "image/png": "[encoded data removed]",
      "text/plain": [
       "<Figure size 1008x1008 with 2 Axes>"
      ]
     },
     "metadata": {
      "needs_background": "light"
     },
     "output_type": "display_data"
    }
   ],
   "source": [
    "plt.figure(figsize=(14,14))\n",
    "sns.heatmap(df1.corr(), annot=True, fmt='.0%')"
   ]
  },
  {
   "cell_type": "code",
   "execution_count": 71,
   "metadata": {},
   "outputs": [
    {
     "data": {
      "image/png": "[encoded data removed]",
      "text/plain": [
       "<Figure size 720x1080 with 3 Axes>"
      ]
     },
     "metadata": {
      "needs_background": "light"
     },
     "output_type": "display_data"
    }
   ],
   "source": [
    "plotnumber =1\n",
    "plt.figure(figsize=(10,15))\n",
    "\n",
    "for col in ['friends', 'age', 'income']:\n",
    "    plt.subplot(2,2, plotnumber)\n",
    "    if plotnumber <=8:\n",
    "        sns.distplot(df1[col])\n",
    "    plotnumber += plotnumber\n"
   ]
  },
  {
   "cell_type": "code",
   "execution_count": 72,
   "metadata": {},
   "outputs": [
    {
     "data": {
      "image/png": "[encoded data removed]",
      "text/plain": [
       "<Figure size 720x1080 with 3 Axes>"
      ]
     },
     "metadata": {
      "needs_background": "light"
     },
     "output_type": "display_data"
    }
   ],
   "source": [
    "plotnumber =1\n",
    "plt.figure(figsize=(10,15))\n",
    "\n",
    "for col in ['friends', 'age', 'income']:\n",
    "    plt.subplot(2,2, plotnumber)\n",
    "    if plotnumber <=8:\n",
    "        sns.boxplot(df1[col])\n",
    "    plotnumber += plotnumber"
   ]
  },
  {
   "cell_type": "code",
   "execution_count": null,
   "metadata": {},
   "outputs": [],
   "source": [
    "df1"
   ]
  },
  {
   "cell_type": "code",
   "execution_count": 41,
   "metadata": {
    "scrolled": true
   },
   "outputs": [
    {
     "name": "stderr",
     "output_type": "stream",
     "text": [
      "<ipython-input-41-4e0313ab77df>:5: SettingWithCopyWarning: \n",
      "A value is trying to be set on a copy of a slice from a DataFrame.\n",
      "Try using .loc[row_indexer,col_indexer] = value instead\n",
      "\n",
      "See the caveats in the documentation: https://pandas.pydata.org/pandas-docs/stable/user_guide/indexing.html#returning-a-view-versus-a-copy\n",
      "  df1[column] = LabelEncoder().fit_transform(df1[column])\n"
     ]
    }
   ],
   "source": [
    "from sklearn.preprocessing import LabelEncoder\n",
    "\n",
    "for column in df1.columns:\n",
    "    if df1[column].dtype == 'object':\n",
    "        df1[column] = LabelEncoder().fit_transform(df1[column])"
   ]
  },
  {
   "cell_type": "code",
   "execution_count": 43,
   "metadata": {
    "scrolled": true
   },
   "outputs": [],
   "source": [
    "final_df = df1"
   ]
  },
  {
   "cell_type": "code",
   "execution_count": 44,
   "metadata": {},
   "outputs": [
    {
     "data": {
      "text/html": [
       "<div>\n",
       "<style scoped>\n",
       "    .dataframe tbody tr th:only-of-type {\n",
       "        vertical-align: middle;\n",
       "    }\n",
       "\n",
       "    .dataframe tbody tr th {\n",
       "        vertical-align: top;\n",
       "    }\n",
       "\n",
       "    .dataframe thead th {\n",
       "        text-align: right;\n",
       "    }\n",
       "</style>\n",
       "<table border=\"1\" class=\"dataframe\">\n",
       "  <thead>\n",
       "    <tr style=\"text-align: right;\">\n",
       "      <th></th>\n",
       "      <th>gender</th>\n",
       "      <th>sexuallity</th>\n",
       "      <th>friends</th>\n",
       "      <th>age</th>\n",
       "      <th>income</th>\n",
       "      <th>bodyweight</th>\n",
       "      <th>virgin</th>\n",
       "      <th>social_fear</th>\n",
       "      <th>depressed</th>\n",
       "      <th>attempt_suicide</th>\n",
       "    </tr>\n",
       "  </thead>\n",
       "  <tbody>\n",
       "    <tr>\n",
       "      <th>0</th>\n",
       "      <td>1</td>\n",
       "      <td>2</td>\n",
       "      <td>0.0</td>\n",
       "      <td>35</td>\n",
       "      <td>69999</td>\n",
       "      <td>0</td>\n",
       "      <td>1</td>\n",
       "      <td>1</td>\n",
       "      <td>1</td>\n",
       "      <td>1</td>\n",
       "    </tr>\n",
       "    <tr>\n",
       "      <th>1</th>\n",
       "      <td>1</td>\n",
       "      <td>0</td>\n",
       "      <td>0.0</td>\n",
       "      <td>21</td>\n",
       "      <td>10001</td>\n",
       "      <td>3</td>\n",
       "      <td>1</td>\n",
       "      <td>1</td>\n",
       "      <td>1</td>\n",
       "      <td>0</td>\n",
       "    </tr>\n",
       "    <tr>\n",
       "      <th>2</th>\n",
       "      <td>1</td>\n",
       "      <td>2</td>\n",
       "      <td>10.0</td>\n",
       "      <td>22</td>\n",
       "      <td>0</td>\n",
       "      <td>2</td>\n",
       "      <td>1</td>\n",
       "      <td>1</td>\n",
       "      <td>1</td>\n",
       "      <td>0</td>\n",
       "    </tr>\n",
       "    <tr>\n",
       "      <th>3</th>\n",
       "      <td>1</td>\n",
       "      <td>2</td>\n",
       "      <td>8.0</td>\n",
       "      <td>19</td>\n",
       "      <td>10001</td>\n",
       "      <td>2</td>\n",
       "      <td>1</td>\n",
       "      <td>1</td>\n",
       "      <td>1</td>\n",
       "      <td>0</td>\n",
       "    </tr>\n",
       "    <tr>\n",
       "      <th>4</th>\n",
       "      <td>1</td>\n",
       "      <td>2</td>\n",
       "      <td>10.0</td>\n",
       "      <td>23</td>\n",
       "      <td>69999</td>\n",
       "      <td>2</td>\n",
       "      <td>0</td>\n",
       "      <td>0</td>\n",
       "      <td>1</td>\n",
       "      <td>0</td>\n",
       "    </tr>\n",
       "    <tr>\n",
       "      <th>...</th>\n",
       "      <td>...</td>\n",
       "      <td>...</td>\n",
       "      <td>...</td>\n",
       "      <td>...</td>\n",
       "      <td>...</td>\n",
       "      <td>...</td>\n",
       "      <td>...</td>\n",
       "      <td>...</td>\n",
       "      <td>...</td>\n",
       "      <td>...</td>\n",
       "    </tr>\n",
       "    <tr>\n",
       "      <th>464</th>\n",
       "      <td>0</td>\n",
       "      <td>2</td>\n",
       "      <td>10.0</td>\n",
       "      <td>26</td>\n",
       "      <td>29999</td>\n",
       "      <td>2</td>\n",
       "      <td>1</td>\n",
       "      <td>1</td>\n",
       "      <td>0</td>\n",
       "      <td>0</td>\n",
       "    </tr>\n",
       "    <tr>\n",
       "      <th>465</th>\n",
       "      <td>1</td>\n",
       "      <td>2</td>\n",
       "      <td>10.0</td>\n",
       "      <td>31</td>\n",
       "      <td>69999</td>\n",
       "      <td>0</td>\n",
       "      <td>0</td>\n",
       "      <td>0</td>\n",
       "      <td>0</td>\n",
       "      <td>0</td>\n",
       "    </tr>\n",
       "    <tr>\n",
       "      <th>466</th>\n",
       "      <td>0</td>\n",
       "      <td>2</td>\n",
       "      <td>20.0</td>\n",
       "      <td>17</td>\n",
       "      <td>10001</td>\n",
       "      <td>0</td>\n",
       "      <td>1</td>\n",
       "      <td>1</td>\n",
       "      <td>1</td>\n",
       "      <td>1</td>\n",
       "    </tr>\n",
       "    <tr>\n",
       "      <th>467</th>\n",
       "      <td>1</td>\n",
       "      <td>2</td>\n",
       "      <td>16.0</td>\n",
       "      <td>18</td>\n",
       "      <td>0</td>\n",
       "      <td>1</td>\n",
       "      <td>1</td>\n",
       "      <td>1</td>\n",
       "      <td>1</td>\n",
       "      <td>0</td>\n",
       "    </tr>\n",
       "    <tr>\n",
       "      <th>468</th>\n",
       "      <td>1</td>\n",
       "      <td>2</td>\n",
       "      <td>3.0</td>\n",
       "      <td>28</td>\n",
       "      <td>89999</td>\n",
       "      <td>0</td>\n",
       "      <td>1</td>\n",
       "      <td>1</td>\n",
       "      <td>1</td>\n",
       "      <td>0</td>\n",
       "    </tr>\n",
       "  </tbody>\n",
       "</table>\n",
       "<p>469 rows × 10 columns</p>\n",
       "</div>"
      ],
      "text/plain": [
       "     gender  sexuallity  friends  age  income  bodyweight  virgin  \\\n",
       "0         1           2      0.0   35   69999           0       1   \n",
       "1         1           0      0.0   21   10001           3       1   \n",
       "2         1           2     10.0   22       0           2       1   \n",
       "3         1           2      8.0   19   10001           2       1   \n",
       "4         1           2     10.0   23   69999           2       0   \n",
       "..      ...         ...      ...  ...     ...         ...     ...   \n",
       "464       0           2     10.0   26   29999           2       1   \n",
       "465       1           2     10.0   31   69999           0       0   \n",
       "466       0           2     20.0   17   10001           0       1   \n",
       "467       1           2     16.0   18       0           1       1   \n",
       "468       1           2      3.0   28   89999           0       1   \n",
       "\n",
       "     social_fear  depressed  attempt_suicide  \n",
       "0              1          1                1  \n",
       "1              1          1                0  \n",
       "2              1          1                0  \n",
       "3              1          1                0  \n",
       "4              0          1                0  \n",
       "..           ...        ...              ...  \n",
       "464            1          0                0  \n",
       "465            0          0                0  \n",
       "466            1          1                1  \n",
       "467            1          1                0  \n",
       "468            1          1                0  \n",
       "\n",
       "[469 rows x 10 columns]"
      ]
     },
     "execution_count": 44,
     "metadata": {},
     "output_type": "execute_result"
    }
   ],
   "source": [
    "final_df"
   ]
  },
  {
   "cell_type": "code",
   "execution_count": 45,
   "metadata": {},
   "outputs": [],
   "source": [
    "X = final_df.drop('attempt_suicide', axis=1)\n",
    "y = final_df['attempt_suicide']"
   ]
  },
  {
   "cell_type": "code",
   "execution_count": 46,
   "metadata": {},
   "outputs": [],
   "source": [
    "\n",
    "from sklearn.model_selection import train_test_split\n",
    "\n",
    "X_train, X_test, y_train, y_test = train_test_split(X,y, test_size=0.3, random_state=92)"
   ]
  },
  {
   "cell_type": "code",
   "execution_count": 47,
   "metadata": {},
   "outputs": [],
   "source": [
    "from sklearn.linear_model import LogisticRegression\n",
    "\n",
    "model = LogisticRegression()"
   ]
  },
  {
   "cell_type": "code",
   "execution_count": 48,
   "metadata": {},
   "outputs": [
    {
     "data": {
      "text/plain": [
       "LogisticRegression()"
      ]
     },
     "execution_count": 48,
     "metadata": {},
     "output_type": "execute_result"
    }
   ],
   "source": [
    "model.fit(X_train, y_train)"
   ]
  },
  {
   "cell_type": "code",
   "execution_count": 49,
   "metadata": {},
   "outputs": [
    {
     "data": {
      "text/plain": [
       "0.8170731707317073"
      ]
     },
     "execution_count": 49,
     "metadata": {},
     "output_type": "execute_result"
    }
   ],
   "source": [
    "model.score(X_train, y_train)"
   ]
  },
  {
   "cell_type": "code",
   "execution_count": 50,
   "metadata": {},
   "outputs": [
    {
     "data": {
      "text/plain": [
       "0.8226950354609929"
      ]
     },
     "execution_count": 50,
     "metadata": {},
     "output_type": "execute_result"
    }
   ],
   "source": [
    "model.score(X_test, y_test)"
   ]
  },
  {
   "cell_type": "code",
   "execution_count": null,
   "metadata": {},
   "outputs": [],
   "source": []
  },
  {
   "cell_type": "code",
   "execution_count": 51,
   "metadata": {},
   "outputs": [],
   "source": [
    "from sklearn.tree import DecisionTreeClassifier\n",
    "\n",
    "tree = DecisionTreeClassifier()"
   ]
  },
  {
   "cell_type": "code",
   "execution_count": 52,
   "metadata": {},
   "outputs": [
    {
     "data": {
      "text/plain": [
       "DecisionTreeClassifier()"
      ]
     },
     "execution_count": 52,
     "metadata": {},
     "output_type": "execute_result"
    }
   ],
   "source": [
    "tree.fit(X_train, y_train)"
   ]
  },
  {
   "cell_type": "code",
   "execution_count": 53,
   "metadata": {},
   "outputs": [
    {
     "data": {
      "text/plain": [
       "0.9969512195121951"
      ]
     },
     "execution_count": 53,
     "metadata": {},
     "output_type": "execute_result"
    }
   ],
   "source": [
    "tree.score(X_train, y_train)"
   ]
  },
  {
   "cell_type": "code",
   "execution_count": 54,
   "metadata": {},
   "outputs": [
    {
     "data": {
      "text/plain": [
       "0.7872340425531915"
      ]
     },
     "execution_count": 54,
     "metadata": {},
     "output_type": "execute_result"
    }
   ],
   "source": [
    "tree.score(X_test, y_test)"
   ]
  },
  {
   "cell_type": "code",
   "execution_count": null,
   "metadata": {},
   "outputs": [],
   "source": []
  },
  {
   "cell_type": "code",
   "execution_count": 55,
   "metadata": {},
   "outputs": [],
   "source": [
    "from sklearn.ensemble import RandomForestClassifier\n",
    "\n",
    "rf = RandomForestClassifier()"
   ]
  },
  {
   "cell_type": "code",
   "execution_count": 56,
   "metadata": {},
   "outputs": [
    {
     "data": {
      "text/plain": [
       "RandomForestClassifier()"
      ]
     },
     "execution_count": 56,
     "metadata": {},
     "output_type": "execute_result"
    }
   ],
   "source": [
    "rf.fit(X_train, y_train)"
   ]
  },
  {
   "cell_type": "code",
   "execution_count": 57,
   "metadata": {},
   "outputs": [
    {
     "data": {
      "text/plain": [
       "0.9969512195121951"
      ]
     },
     "execution_count": 57,
     "metadata": {},
     "output_type": "execute_result"
    }
   ],
   "source": [
    "tree.score(X_train, y_train)"
   ]
  },
  {
   "cell_type": "code",
   "execution_count": 58,
   "metadata": {},
   "outputs": [
    {
     "data": {
      "text/plain": [
       "0.7872340425531915"
      ]
     },
     "execution_count": 58,
     "metadata": {},
     "output_type": "execute_result"
    }
   ],
   "source": [
    "tree.score(X_test, y_test)"
   ]
  },
  {
   "cell_type": "code",
   "execution_count": 59,
   "metadata": {},
   "outputs": [],
   "source": [
    "from sklearn.metrics import accuracy_score, confusion_matrix, classification_report\n",
    "from sklearn.model_selection import GridSearchCV\n"
   ]
  },
  {
   "cell_type": "code",
   "execution_count": 60,
   "metadata": {
    "scrolled": false
   },
   "outputs": [
    {
     "name": "stdout",
     "output_type": "stream",
     "text": [
      "Confustion Matrix : \n",
      "\n",
      " [[112   4]\n",
      " [ 19   6]]\n",
      "\n",
      " Accuracy Score :  0.8368794326241135\n",
      "\n",
      " Classification Report : \n",
      " \n",
      "               precision    recall  f1-score   support\n",
      "\n",
      "           0       0.85      0.97      0.91       116\n",
      "           1       0.60      0.24      0.34        25\n",
      "\n",
      "    accuracy                           0.84       141\n",
      "   macro avg       0.73      0.60      0.62       141\n",
      "weighted avg       0.81      0.84      0.81       141\n",
      "\n"
     ]
    }
   ],
   "source": [
    "from sklearn.metrics import classification_report\n",
    "\n",
    "print('Confustion Matrix : \\n\\n', confusion_matrix(y_test,  rf.predict(X_test)))\n",
    "print('\\n Accuracy Score : ',   accuracy_score(y_test,  rf.predict(X_test)))\n",
    "print('\\n Classification Report : \\n \\n',classification_report(y_test, rf.predict(X_test)))"
   ]
  },
  {
   "cell_type": "code",
   "execution_count": 61,
   "metadata": {},
   "outputs": [
    {
     "data": {
      "text/html": [
       "<div>\n",
       "<style scoped>\n",
       "    .dataframe tbody tr th:only-of-type {\n",
       "        vertical-align: middle;\n",
       "    }\n",
       "\n",
       "    .dataframe tbody tr th {\n",
       "        vertical-align: top;\n",
       "    }\n",
       "\n",
       "    .dataframe thead th {\n",
       "        text-align: right;\n",
       "    }\n",
       "</style>\n",
       "<table border=\"1\" class=\"dataframe\">\n",
       "  <thead>\n",
       "    <tr style=\"text-align: right;\">\n",
       "      <th></th>\n",
       "      <th>gender</th>\n",
       "      <th>sexuallity</th>\n",
       "      <th>friends</th>\n",
       "      <th>age</th>\n",
       "      <th>income</th>\n",
       "      <th>bodyweight</th>\n",
       "      <th>virgin</th>\n",
       "      <th>social_fear</th>\n",
       "      <th>depressed</th>\n",
       "      <th>attempt_suicide</th>\n",
       "    </tr>\n",
       "  </thead>\n",
       "  <tbody>\n",
       "    <tr>\n",
       "      <th>465</th>\n",
       "      <td>1</td>\n",
       "      <td>2</td>\n",
       "      <td>10.0</td>\n",
       "      <td>31</td>\n",
       "      <td>69999</td>\n",
       "      <td>0</td>\n",
       "      <td>0</td>\n",
       "      <td>0</td>\n",
       "      <td>0</td>\n",
       "      <td>0</td>\n",
       "    </tr>\n",
       "    <tr>\n",
       "      <th>466</th>\n",
       "      <td>0</td>\n",
       "      <td>2</td>\n",
       "      <td>20.0</td>\n",
       "      <td>17</td>\n",
       "      <td>10001</td>\n",
       "      <td>0</td>\n",
       "      <td>1</td>\n",
       "      <td>1</td>\n",
       "      <td>1</td>\n",
       "      <td>1</td>\n",
       "    </tr>\n",
       "    <tr>\n",
       "      <th>467</th>\n",
       "      <td>1</td>\n",
       "      <td>2</td>\n",
       "      <td>16.0</td>\n",
       "      <td>18</td>\n",
       "      <td>0</td>\n",
       "      <td>1</td>\n",
       "      <td>1</td>\n",
       "      <td>1</td>\n",
       "      <td>1</td>\n",
       "      <td>0</td>\n",
       "    </tr>\n",
       "    <tr>\n",
       "      <th>468</th>\n",
       "      <td>1</td>\n",
       "      <td>2</td>\n",
       "      <td>3.0</td>\n",
       "      <td>28</td>\n",
       "      <td>89999</td>\n",
       "      <td>0</td>\n",
       "      <td>1</td>\n",
       "      <td>1</td>\n",
       "      <td>1</td>\n",
       "      <td>0</td>\n",
       "    </tr>\n",
       "  </tbody>\n",
       "</table>\n",
       "</div>"
      ],
      "text/plain": [
       "     gender  sexuallity  friends  age  income  bodyweight  virgin  \\\n",
       "465       1           2     10.0   31   69999           0       0   \n",
       "466       0           2     20.0   17   10001           0       1   \n",
       "467       1           2     16.0   18       0           1       1   \n",
       "468       1           2      3.0   28   89999           0       1   \n",
       "\n",
       "     social_fear  depressed  attempt_suicide  \n",
       "465            0          0                0  \n",
       "466            1          1                1  \n",
       "467            1          1                0  \n",
       "468            1          1                0  "
      ]
     },
     "execution_count": 61,
     "metadata": {},
     "output_type": "execute_result"
    }
   ],
   "source": [
    "final_df.tail(4)"
   ]
  },
  {
   "cell_type": "code",
   "execution_count": 62,
   "metadata": {},
   "outputs": [
    {
     "data": {
      "text/plain": [
       "array([0])"
      ]
     },
     "execution_count": 62,
     "metadata": {},
     "output_type": "execute_result"
    }
   ],
   "source": [
    "rf.predict([[1, 2, 20, 17, 0, 1, 1, 1, 1]])"
   ]
  },
  {
   "cell_type": "code",
   "execution_count": 63,
   "metadata": {},
   "outputs": [
    {
     "data": {
      "text/html": [
       "<div>\n",
       "<style scoped>\n",
       "    .dataframe tbody tr th:only-of-type {\n",
       "        vertical-align: middle;\n",
       "    }\n",
       "\n",
       "    .dataframe tbody tr th {\n",
       "        vertical-align: top;\n",
       "    }\n",
       "\n",
       "    .dataframe thead th {\n",
       "        text-align: right;\n",
       "    }\n",
       "</style>\n",
       "<table border=\"1\" class=\"dataframe\">\n",
       "  <thead>\n",
       "    <tr style=\"text-align: right;\">\n",
       "      <th></th>\n",
       "      <th>gender</th>\n",
       "      <th>sexuallity</th>\n",
       "      <th>friends</th>\n",
       "      <th>age</th>\n",
       "      <th>income</th>\n",
       "      <th>bodyweight</th>\n",
       "      <th>virgin</th>\n",
       "      <th>social_fear</th>\n",
       "      <th>depressed</th>\n",
       "      <th>attempt_suicide</th>\n",
       "    </tr>\n",
       "  </thead>\n",
       "  <tbody>\n",
       "    <tr>\n",
       "      <th>0</th>\n",
       "      <td>1</td>\n",
       "      <td>2</td>\n",
       "      <td>0.0</td>\n",
       "      <td>35</td>\n",
       "      <td>69999</td>\n",
       "      <td>0</td>\n",
       "      <td>1</td>\n",
       "      <td>1</td>\n",
       "      <td>1</td>\n",
       "      <td>1</td>\n",
       "    </tr>\n",
       "    <tr>\n",
       "      <th>5</th>\n",
       "      <td>1</td>\n",
       "      <td>2</td>\n",
       "      <td>2.0</td>\n",
       "      <td>24</td>\n",
       "      <td>124999</td>\n",
       "      <td>0</td>\n",
       "      <td>1</td>\n",
       "      <td>1</td>\n",
       "      <td>1</td>\n",
       "      <td>1</td>\n",
       "    </tr>\n",
       "    <tr>\n",
       "      <th>7</th>\n",
       "      <td>0</td>\n",
       "      <td>1</td>\n",
       "      <td>10.0</td>\n",
       "      <td>24</td>\n",
       "      <td>49999</td>\n",
       "      <td>0</td>\n",
       "      <td>1</td>\n",
       "      <td>1</td>\n",
       "      <td>1</td>\n",
       "      <td>1</td>\n",
       "    </tr>\n",
       "    <tr>\n",
       "      <th>9</th>\n",
       "      <td>1</td>\n",
       "      <td>2</td>\n",
       "      <td>6.0</td>\n",
       "      <td>33</td>\n",
       "      <td>124999</td>\n",
       "      <td>2</td>\n",
       "      <td>0</td>\n",
       "      <td>1</td>\n",
       "      <td>1</td>\n",
       "      <td>1</td>\n",
       "    </tr>\n",
       "    <tr>\n",
       "      <th>11</th>\n",
       "      <td>1</td>\n",
       "      <td>2</td>\n",
       "      <td>0.0</td>\n",
       "      <td>25</td>\n",
       "      <td>10001</td>\n",
       "      <td>0</td>\n",
       "      <td>1</td>\n",
       "      <td>1</td>\n",
       "      <td>1</td>\n",
       "      <td>1</td>\n",
       "    </tr>\n",
       "    <tr>\n",
       "      <th>...</th>\n",
       "      <td>...</td>\n",
       "      <td>...</td>\n",
       "      <td>...</td>\n",
       "      <td>...</td>\n",
       "      <td>...</td>\n",
       "      <td>...</td>\n",
       "      <td>...</td>\n",
       "      <td>...</td>\n",
       "      <td>...</td>\n",
       "      <td>...</td>\n",
       "    </tr>\n",
       "    <tr>\n",
       "      <th>445</th>\n",
       "      <td>0</td>\n",
       "      <td>0</td>\n",
       "      <td>3.0</td>\n",
       "      <td>20</td>\n",
       "      <td>10001</td>\n",
       "      <td>0</td>\n",
       "      <td>1</td>\n",
       "      <td>1</td>\n",
       "      <td>1</td>\n",
       "      <td>1</td>\n",
       "    </tr>\n",
       "    <tr>\n",
       "      <th>449</th>\n",
       "      <td>1</td>\n",
       "      <td>2</td>\n",
       "      <td>5.0</td>\n",
       "      <td>27</td>\n",
       "      <td>10001</td>\n",
       "      <td>2</td>\n",
       "      <td>1</td>\n",
       "      <td>0</td>\n",
       "      <td>1</td>\n",
       "      <td>1</td>\n",
       "    </tr>\n",
       "    <tr>\n",
       "      <th>461</th>\n",
       "      <td>1</td>\n",
       "      <td>2</td>\n",
       "      <td>5.0</td>\n",
       "      <td>18</td>\n",
       "      <td>10001</td>\n",
       "      <td>2</td>\n",
       "      <td>1</td>\n",
       "      <td>1</td>\n",
       "      <td>1</td>\n",
       "      <td>1</td>\n",
       "    </tr>\n",
       "    <tr>\n",
       "      <th>463</th>\n",
       "      <td>1</td>\n",
       "      <td>0</td>\n",
       "      <td>0.5</td>\n",
       "      <td>12</td>\n",
       "      <td>0</td>\n",
       "      <td>1</td>\n",
       "      <td>0</td>\n",
       "      <td>1</td>\n",
       "      <td>0</td>\n",
       "      <td>1</td>\n",
       "    </tr>\n",
       "    <tr>\n",
       "      <th>466</th>\n",
       "      <td>0</td>\n",
       "      <td>2</td>\n",
       "      <td>20.0</td>\n",
       "      <td>17</td>\n",
       "      <td>10001</td>\n",
       "      <td>0</td>\n",
       "      <td>1</td>\n",
       "      <td>1</td>\n",
       "      <td>1</td>\n",
       "      <td>1</td>\n",
       "    </tr>\n",
       "  </tbody>\n",
       "</table>\n",
       "<p>85 rows × 10 columns</p>\n",
       "</div>"
      ],
      "text/plain": [
       "     gender  sexuallity  friends  age  income  bodyweight  virgin  \\\n",
       "0         1           2      0.0   35   69999           0       1   \n",
       "5         1           2      2.0   24  124999           0       1   \n",
       "7         0           1     10.0   24   49999           0       1   \n",
       "9         1           2      6.0   33  124999           2       0   \n",
       "11        1           2      0.0   25   10001           0       1   \n",
       "..      ...         ...      ...  ...     ...         ...     ...   \n",
       "445       0           0      3.0   20   10001           0       1   \n",
       "449       1           2      5.0   27   10001           2       1   \n",
       "461       1           2      5.0   18   10001           2       1   \n",
       "463       1           0      0.5   12       0           1       0   \n",
       "466       0           2     20.0   17   10001           0       1   \n",
       "\n",
       "     social_fear  depressed  attempt_suicide  \n",
       "0              1          1                1  \n",
       "5              1          1                1  \n",
       "7              1          1                1  \n",
       "9              1          1                1  \n",
       "11             1          1                1  \n",
       "..           ...        ...              ...  \n",
       "445            1          1                1  \n",
       "449            0          1                1  \n",
       "461            1          1                1  \n",
       "463            1          0                1  \n",
       "466            1          1                1  \n",
       "\n",
       "[85 rows x 10 columns]"
      ]
     },
     "execution_count": 63,
     "metadata": {},
     "output_type": "execute_result"
    }
   ],
   "source": [
    "final_df[final_df['attempt_suicide'] == 1]"
   ]
  },
  {
   "cell_type": "code",
   "execution_count": 64,
   "metadata": {},
   "outputs": [
    {
     "data": {
      "text/plain": [
       "array([0])"
      ]
     },
     "execution_count": 64,
     "metadata": {},
     "output_type": "execute_result"
    }
   ],
   "source": [
    "rf.predict([[1, 2, 0, 35, 69999, 0, 1, 1, 1]])"
   ]
  },
  {
   "cell_type": "code",
   "execution_count": null,
   "metadata": {},
   "outputs": [],
   "source": []
  },
  {
   "cell_type": "code",
   "execution_count": null,
   "metadata": {},
   "outputs": [],
   "source": []
  }
 ],
 "metadata": {
  "kernelspec": {
   "display_name": "Python 3",
   "language": "python",
   "name": "python3"
  },
  "language_info": {
   "codemirror_mode": {
    "name": "ipython",
    "version": 3
   },
   "file_extension": ".py",
   "mimetype": "text/x-python",
   "name": "python",
   "nbconvert_exporter": "python",
   "pygments_lexer": "ipython3",
   "version": "3.8.3"
  }
 },
 "nbformat": 4,
 "nbformat_minor": 4
}
